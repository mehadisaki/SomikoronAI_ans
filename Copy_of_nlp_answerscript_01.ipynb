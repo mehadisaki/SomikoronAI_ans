{
  "cells": [
    {
      "cell_type": "markdown",
      "metadata": {
        "id": "view-in-github",
        "colab_type": "text"
      },
      "source": [
        "<a href=\"https://colab.research.google.com/github/mehadisaki/SomikoronAI_ans/blob/main/Copy_of_nlp_answerscript_01.ipynb\" target=\"_parent\"><img src=\"https://colab.research.google.com/assets/colab-badge.svg\" alt=\"Open In Colab\"/></a>"
      ]
    },
    {
      "cell_type": "markdown",
      "id": "b33cdfcd",
      "metadata": {
        "id": "b33cdfcd"
      },
      "source": [
        "# Quick Test : NLP Problem\n",
        "\n",
        "#### Extract Scanned PDF"
      ]
    },
    {
      "cell_type": "markdown",
      "id": "6dd0c4e8",
      "metadata": {
        "id": "6dd0c4e8"
      },
      "source": [
        "### Goal \n",
        "\n",
        "To extract all meaningful english words from a scanned pdf file. This is a classic NLP problem.\n",
        "\n",
        "\n",
        "### Some Key Points to Keep in  Mind\n",
        "\n",
        "1. One of the most critical programming skill that is need in NLP is to know how to use regular expression. Use regular expression quick help : https://www.w3schools.com/python/python_regex.asp\n",
        "\n",
        "2. Regular expression is needed for cleaning textual data\n",
        "\n",
        "3. You may or may not use `stemmer` to extract meaningful words/strings"
      ]
    },
    {
      "cell_type": "markdown",
      "id": "94570650",
      "metadata": {
        "id": "94570650"
      },
      "source": [
        "## Load Required Packages"
      ]
    },
    {
      "cell_type": "code",
      "execution_count": 1,
      "id": "215315d4",
      "metadata": {
        "id": "215315d4",
        "colab": {
          "base_uri": "https://localhost:8080/"
        },
        "outputId": "5b6cdfa4-d4e3-4b11-b9ed-0870a10b2cc8"
      },
      "outputs": [
        {
          "output_type": "stream",
          "name": "stdout",
          "text": [
            "Looking in indexes: https://pypi.org/simple, https://us-python.pkg.dev/colab-wheels/public/simple/\n",
            "Collecting pypdf2\n",
            "  Downloading pypdf2-2.11.2-py3-none-any.whl (220 kB)\n",
            "\u001b[K     |████████████████████████████████| 220 kB 7.4 MB/s \n",
            "\u001b[?25hRequirement already satisfied: typing_extensions>=3.10.0.0 in /usr/local/lib/python3.8/dist-packages (from pypdf2) (4.4.0)\n",
            "Installing collected packages: pypdf2\n",
            "Successfully installed pypdf2-2.11.2\n"
          ]
        }
      ],
      "source": [
        "!pip install pypdf2"
      ]
    },
    {
      "cell_type": "markdown",
      "id": "b61d8455",
      "metadata": {
        "id": "b61d8455"
      },
      "source": [
        "-------------------------------------------------------------------------------------------------"
      ]
    },
    {
      "cell_type": "markdown",
      "id": "bc92e9ee",
      "metadata": {
        "id": "bc92e9ee"
      },
      "source": [
        "## Part 1 :  Read Data\n",
        "\n",
        "####  Read the pdf file"
      ]
    },
    {
      "cell_type": "code",
      "execution_count": 2,
      "id": "d211c49d",
      "metadata": {
        "id": "d211c49d"
      },
      "outputs": [],
      "source": [
        "import PyPDF2"
      ]
    },
    {
      "cell_type": "code",
      "execution_count": 4,
      "id": "fb0353f7",
      "metadata": {
        "id": "fb0353f7"
      },
      "outputs": [],
      "source": [
        "reader = PyPDF2.PdfFileReader(open('/content/data_testscript_01.pdf','rb'))"
      ]
    },
    {
      "cell_type": "markdown",
      "id": "4592f0f9",
      "metadata": {
        "id": "4592f0f9"
      },
      "source": [
        "#### Find the number of pages"
      ]
    },
    {
      "cell_type": "code",
      "execution_count": 5,
      "id": "15a50ffe",
      "metadata": {
        "id": "15a50ffe",
        "outputId": "a298e351-6ab4-4b10-afdb-aea4fa5b1618",
        "colab": {
          "base_uri": "https://localhost:8080/"
        }
      },
      "outputs": [
        {
          "output_type": "stream",
          "name": "stdout",
          "text": [
            "7\n"
          ]
        }
      ],
      "source": [
        "number_of_pages = reader.getNumPages()\n",
        "print(number_of_pages)"
      ]
    },
    {
      "cell_type": "markdown",
      "id": "c39bc5c9",
      "metadata": {
        "id": "c39bc5c9"
      },
      "source": [
        "#### Get the first page : indexed by 0"
      ]
    },
    {
      "cell_type": "code",
      "execution_count": 6,
      "id": "1e554cd5",
      "metadata": {
        "id": "1e554cd5",
        "outputId": "f3a0e2f5-c51d-45aa-ea72-b7e12130946c",
        "colab": {
          "base_uri": "https://localhost:8080/"
        }
      },
      "outputs": [
        {
          "output_type": "stream",
          "name": "stdout",
          "text": [
            "{'/Type': '/Page', '/MediaBox': [0, 0, 595, 842], '/Rotate': 0, '/Parent': IndirectObject(3, 0, 140146500002192), '/Resources': {'/ProcSet': ['/PDF', '/Text'], '/ExtGState': IndirectObject(30, 0, 140146500002192), '/Font': IndirectObject(31, 0, 140146500002192)}, '/Contents': IndirectObject(5, 0, 140146500002192)}\n"
          ]
        }
      ],
      "source": [
        "page = reader.pages[0]\n",
        "print(page)"
      ]
    },
    {
      "cell_type": "markdown",
      "id": "3bc73e08",
      "metadata": {
        "id": "3bc73e08"
      },
      "source": [
        "#### Get text from the first page "
      ]
    },
    {
      "cell_type": "code",
      "execution_count": 7,
      "id": "b46c34b5",
      "metadata": {
        "id": "b46c34b5",
        "outputId": "8c9d9363-3d0a-4b46-d924-a6ee73544c69",
        "colab": {
          "base_uri": "https://localhost:8080/"
        }
      },
      "outputs": [
        {
          "output_type": "stream",
          "name": "stdout",
          "text": [
            "Feature Interactions in XGBoost\n",
            "Kshitij Goyal, Sebastijan Dumancic, Hendrik Blockeel\n",
            "KU Leuven, Belgium\n",
            "Abstract. In this paper, We investigate how feature interactions can\n",
            "be identi ﬁed to be used as constraints in gradient boosting tree mod-\n",
            "els through XGBoost’s implementation. Our results show tha t accurate\n",
            "identiﬁcation of these constraints can help improve the performanc e\n",
            "of baseline XGBoost model signi ﬁcantly. Further, improvement in the\n",
            "model structure can also lead to better interpretability.\n",
            "Keywords: Feature Interaction ·XGBoost ·Constraints ·Interpretabil-\n",
            "ity\n",
            "1 Introduction\n",
            "In statistics, two variables X1andX2are said to interact when the e ﬀect of\n",
            "X1on a target variable Yis not constant, but may depend on the value of X2.\n",
            "\"Eﬀect\" here refers to the increase or decrease of Ythat is caused by a change\n",
            "inX1(while keeping X2constant). Interaction does not occur in linear models\n",
            "of the form\n",
            "Y=aX1+bX2\n",
            "an unit increase of X1by 1 will always increase Ybya(assuming X2is kept\n",
            "constant). On the other hand, a model of the form\n",
            "Y=aX1+bX2+cX1X2\n",
            "does have interaction: rewriting it as\n",
            "Y= (a+cX2)X1+bX2\n",
            "makes clear that a unit increase of X1increases Ybya+cX2, hence, by a value\n",
            "that depends on X2. In statistics, a common way to detect interaction is to train\n",
            "models with and without product terms, and check whether the ver sion with a\n",
            "product term signi ﬁcantly outperforms the one without.\n",
            "In the context of decision trees, X1andX2do not interact if the following\n",
            "holds: whenever a test of X2is used, either X2does not occur in any of the\n",
            "branches, or if it does, it must be tested in exactly the same w ay in all branches.\n",
            "Indeed, if we would have a test X1<a where the left branch contains X2<b and\n",
            "the right one does not, this means that the target depends on X2ifX1<a, but\n",
            "does not depend on it if X1>a; that is, the e ﬀect ofX2onYclearly depends\n",
            "on the value of X1. Obviously, having identical sub-trees in the left and righ t\n"
          ]
        }
      ],
      "source": [
        "text = page.extract_text()\n",
        "print(text)"
      ]
    },
    {
      "cell_type": "markdown",
      "id": "c9f14d76",
      "metadata": {
        "id": "c9f14d76"
      },
      "source": [
        "-------------------------------------------------------------------------------------------------"
      ]
    },
    {
      "cell_type": "markdown",
      "id": "d6b04880",
      "metadata": {
        "id": "d6b04880"
      },
      "source": [
        "Everything that has been written below has been done for Page 1 only "
      ]
    },
    {
      "cell_type": "markdown",
      "id": "687c57a5",
      "metadata": {
        "id": "687c57a5"
      },
      "source": [
        "-------------------------------------------------------------------------------------------------"
      ]
    },
    {
      "cell_type": "markdown",
      "id": "1e4b33e3",
      "metadata": {
        "id": "1e4b33e3"
      },
      "source": [
        "## Part 2: Clean Data\n",
        "\n",
        "#### Step 1: Split the text by white-space"
      ]
    },
    {
      "cell_type": "code",
      "execution_count": 8,
      "id": "58c45b39",
      "metadata": {
        "id": "58c45b39",
        "outputId": "abe31421-f803-4399-ed1c-6bd37a223253",
        "colab": {
          "base_uri": "https://localhost:8080/"
        }
      },
      "outputs": [
        {
          "output_type": "stream",
          "name": "stdout",
          "text": [
            "['Feature', 'Interactions', 'in', 'XGBoost\\nKshitij', 'Goyal,', 'Sebastijan', 'Dumancic,', 'Hendrik', 'Blockeel\\nKU', 'Leuven,', 'Belgium\\nAbstract.', 'In', 'this', 'paper,', 'We', 'investigate', 'how', 'feature', 'interactions', 'can\\nbe', 'identi', 'ﬁed', 'to', 'be', 'used', 'as', 'constraints', 'in', 'gradient', 'boosting', 'tree', 'mod-\\nels', 'through', 'XGBoost’s', 'implementation.', 'Our', 'results', 'show', 'tha', 't', 'accurate\\nidentiﬁcation', 'of', 'these', 'constraints', 'can', 'help', 'improve', 'the', 'performanc', 'e\\nof', 'baseline', 'XGBoost', 'model', 'signi', 'ﬁcantly.', 'Further,', 'improvement', 'in', 'the\\nmodel', 'structure', 'can', 'also', 'lead', 'to', 'better', 'interpretability.\\nKeywords:', 'Feature', 'Interaction', '·XGBoost', '·Constraints', '·Interpretabil-\\nity\\n1', 'Introduction\\nIn', 'statistics,', 'two', 'variables', 'X1andX2are', 'said', 'to', 'interact', 'when', 'the', 'e', 'ﬀect', 'of\\nX1on', 'a', 'target', 'variable', 'Yis', 'not', 'constant,', 'but', 'may', 'depend', 'on', 'the', 'value', 'of', 'X2.\\n\"Eﬀect\"', 'here', 'refers', 'to', 'the', 'increase', 'or', 'decrease', 'of', 'Ythat', 'is', 'caused', 'by', 'a', 'change\\ninX1(while', 'keeping', 'X2constant).', 'Interaction', 'does', 'not', 'occur', 'in', 'linear', 'models\\nof', 'the', 'form\\nY=aX1+bX2\\nan', 'unit', 'increase', 'of', 'X1by', '1', 'will', 'always', 'increase', 'Ybya(assuming', 'X2is', 'kept\\nconstant).', 'On', 'the', 'other', 'hand,', 'a', 'model', 'of', 'the', 'form\\nY=aX1+bX2+cX1X2\\ndoes', 'have', 'interaction:', 'rewriting', 'it', 'as\\nY=', '(a+cX2)X1+bX2\\nmakes', 'clear', 'that', 'a', 'unit', 'increase', 'of', 'X1increases', 'Ybya+cX2,', 'hence,', 'by', 'a', 'value\\nthat', 'depends', 'on', 'X2.', 'In', 'statistics,', 'a', 'common', 'way', 'to', 'detect', 'interaction', 'is', 'to', 'train\\nmodels', 'with', 'and', 'without', 'product', 'terms,', 'and', 'check', 'whether', 'the', 'ver', 'sion', 'with', 'a\\nproduct', 'term', 'signi', 'ﬁcantly', 'outperforms', 'the', 'one', 'without.\\nIn', 'the', 'context', 'of', 'decision', 'trees,', 'X1andX2do', 'not', 'interact', 'if', 'the', 'following\\nholds:', 'whenever', 'a', 'test', 'of', 'X2is', 'used,', 'either', 'X2does', 'not', 'occur', 'in', 'any', 'of', 'the\\nbranches,', 'or', 'if', 'it', 'does,', 'it', 'must', 'be', 'tested', 'in', 'exactly', 'the', 'same', 'w', 'ay', 'in', 'all', 'branches.\\nIndeed,', 'if', 'we', 'would', 'have', 'a', 'test', 'X1<a', 'where', 'the', 'left', 'branch', 'contains', 'X2<b', 'and\\nthe', 'right', 'one', 'does', 'not,', 'this', 'means', 'that', 'the', 'target', 'depends', 'on', 'X2ifX1<a,', 'but\\ndoes', 'not', 'depend', 'on', 'it', 'if', 'X1>a;', 'that', 'is,', 'the', 'e', 'ﬀect', 'ofX2onYclearly', 'depends\\non', 'the', 'value', 'of', 'X1.', 'Obviously,', 'having', 'identical', 'sub-trees', 'in', 'the', 'left', 'and', 'righ', 't']\n"
          ]
        }
      ],
      "source": [
        "_text1 = text.split(\" \")\n",
        "print( _text1)"
      ]
    },
    {
      "cell_type": "markdown",
      "id": "d2326888",
      "metadata": {
        "id": "d2326888"
      },
      "source": [
        "#### Step 2 : Remove newline brake  and white space"
      ]
    },
    {
      "cell_type": "markdown",
      "id": "0dcb0c0d",
      "metadata": {
        "id": "0dcb0c0d"
      },
      "source": [
        "Check & Learn : Use of replace() method"
      ]
    },
    {
      "cell_type": "code",
      "execution_count": null,
      "id": "1cde8968",
      "metadata": {
        "id": "1cde8968"
      },
      "outputs": [],
      "source": [
        "#'\\nBangladesh'.replace('\\n','')\n",
        "#'\\nBangladesh\\n'.replace('\\n','')\n",
        "#'\\n\\nBangladesh\\n'.replace('\\n','')\n",
        "#'\\n\\nBangladesh\\\\n'.replace('\\n','')"
      ]
    },
    {
      "cell_type": "markdown",
      "id": "ee5422fb",
      "metadata": {
        "id": "ee5422fb"
      },
      "source": [
        "Check and Learn : Use of strip() method"
      ]
    },
    {
      "cell_type": "code",
      "execution_count": null,
      "id": "0fbf7336",
      "metadata": {
        "id": "0fbf7336"
      },
      "outputs": [],
      "source": [
        "#' Bangaldesh Data Science '.strip()"
      ]
    },
    {
      "cell_type": "markdown",
      "id": "c724d201",
      "metadata": {
        "id": "c724d201"
      },
      "source": [
        "Check & Learn : Combine the two methods"
      ]
    },
    {
      "cell_type": "code",
      "execution_count": null,
      "id": "aacafad2",
      "metadata": {
        "id": "aacafad2"
      },
      "outputs": [],
      "source": [
        "#' \\nBangaldesh Data Science\\n '.replace('\\n','').strip()"
      ]
    },
    {
      "cell_type": "markdown",
      "id": "b06f5734",
      "metadata": {
        "id": "b06f5734"
      },
      "source": [
        "Step 2a : Apply your newly acquired knowledge to the original problem  "
      ]
    },
    {
      "cell_type": "code",
      "execution_count": 9,
      "id": "36fd8d85",
      "metadata": {
        "id": "36fd8d85",
        "outputId": "2451eb7b-931b-4ebe-d106-79ac2c8650ba",
        "colab": {
          "base_uri": "https://localhost:8080/"
        }
      },
      "outputs": [
        {
          "output_type": "stream",
          "name": "stdout",
          "text": [
            "['Feature', 'Interactions', 'in', 'XGBoostKshitij', 'Goyal,', 'Sebastijan', 'Dumancic,', 'Hendrik', 'BlockeelKU', 'Leuven,', 'BelgiumAbstract.', 'In', 'this', 'paper,', 'We', 'investigate', 'how', 'feature', 'interactions', 'canbe', 'identi', 'ﬁed', 'to', 'be', 'used', 'as', 'constraints', 'in', 'gradient', 'boosting', 'tree', 'mod-els', 'through', 'XGBoost’s', 'implementation.', 'Our', 'results', 'show', 'tha', 't', 'accurateidentiﬁcation', 'of', 'these', 'constraints', 'can', 'help', 'improve', 'the', 'performanc', 'eof', 'baseline', 'XGBoost', 'model', 'signi', 'ﬁcantly.', 'Further,', 'improvement', 'in', 'themodel', 'structure', 'can', 'also', 'lead', 'to', 'better', 'interpretability.Keywords:', 'Feature', 'Interaction', '·XGBoost', '·Constraints', '·Interpretabil-ity1', 'IntroductionIn', 'statistics,', 'two', 'variables', 'X1andX2are', 'said', 'to', 'interact', 'when', 'the', 'e', 'ﬀect', 'ofX1on', 'a', 'target', 'variable', 'Yis', 'not', 'constant,', 'but', 'may', 'depend', 'on', 'the', 'value', 'of', 'X2.\"Eﬀect\"', 'here', 'refers', 'to', 'the', 'increase', 'or', 'decrease', 'of', 'Ythat', 'is', 'caused', 'by', 'a', 'changeinX1(while', 'keeping', 'X2constant).', 'Interaction', 'does', 'not', 'occur', 'in', 'linear', 'modelsof', 'the', 'formY=aX1+bX2an', 'unit', 'increase', 'of', 'X1by', '1', 'will', 'always', 'increase', 'Ybya(assuming', 'X2is', 'keptconstant).', 'On', 'the', 'other', 'hand,', 'a', 'model', 'of', 'the', 'formY=aX1+bX2+cX1X2does', 'have', 'interaction:', 'rewriting', 'it', 'asY=', '(a+cX2)X1+bX2makes', 'clear', 'that', 'a', 'unit', 'increase', 'of', 'X1increases', 'Ybya+cX2,', 'hence,', 'by', 'a', 'valuethat', 'depends', 'on', 'X2.', 'In', 'statistics,', 'a', 'common', 'way', 'to', 'detect', 'interaction', 'is', 'to', 'trainmodels', 'with', 'and', 'without', 'product', 'terms,', 'and', 'check', 'whether', 'the', 'ver', 'sion', 'with', 'aproduct', 'term', 'signi', 'ﬁcantly', 'outperforms', 'the', 'one', 'without.In', 'the', 'context', 'of', 'decision', 'trees,', 'X1andX2do', 'not', 'interact', 'if', 'the', 'followingholds:', 'whenever', 'a', 'test', 'of', 'X2is', 'used,', 'either', 'X2does', 'not', 'occur', 'in', 'any', 'of', 'thebranches,', 'or', 'if', 'it', 'does,', 'it', 'must', 'be', 'tested', 'in', 'exactly', 'the', 'same', 'w', 'ay', 'in', 'all', 'branches.Indeed,', 'if', 'we', 'would', 'have', 'a', 'test', 'X1<a', 'where', 'the', 'left', 'branch', 'contains', 'X2<b', 'andthe', 'right', 'one', 'does', 'not,', 'this', 'means', 'that', 'the', 'target', 'depends', 'on', 'X2ifX1<a,', 'butdoes', 'not', 'depend', 'on', 'it', 'if', 'X1>a;', 'that', 'is,', 'the', 'e', 'ﬀect', 'ofX2onYclearly', 'dependson', 'the', 'value', 'of', 'X1.', 'Obviously,', 'having', 'identical', 'sub-trees', 'in', 'the', 'left', 'and', 'righ', 't']\n"
          ]
        }
      ],
      "source": [
        "_text2a = []\n",
        "for text in _text1:\n",
        "    _text2a.append(str(text).replace('\\n','').strip())\n",
        "print(_text2a)"
      ]
    },
    {
      "cell_type": "markdown",
      "id": "51ddf9ed",
      "metadata": {
        "id": "51ddf9ed"
      },
      "source": [
        "Step 2b : Remove strings with length =  0 "
      ]
    },
    {
      "cell_type": "code",
      "execution_count": 10,
      "id": "e73ca756",
      "metadata": {
        "id": "e73ca756",
        "outputId": "6978bdda-25a5-4b27-f87a-4c33a9f4d457",
        "colab": {
          "base_uri": "https://localhost:8080/"
        }
      },
      "outputs": [
        {
          "output_type": "stream",
          "name": "stdout",
          "text": [
            "['Feature', 'Interactions', 'in', 'XGBoostKshitij', 'Goyal,', 'Sebastijan', 'Dumancic,', 'Hendrik', 'BlockeelKU', 'Leuven,', 'BelgiumAbstract.', 'In', 'this', 'paper,', 'We', 'investigate', 'how', 'feature', 'interactions', 'canbe', 'identi', 'ﬁed', 'to', 'be', 'used', 'as', 'constraints', 'in', 'gradient', 'boosting', 'tree', 'mod-els', 'through', 'XGBoost’s', 'implementation.', 'Our', 'results', 'show', 'tha', 't', 'accurateidentiﬁcation', 'of', 'these', 'constraints', 'can', 'help', 'improve', 'the', 'performanc', 'eof', 'baseline', 'XGBoost', 'model', 'signi', 'ﬁcantly.', 'Further,', 'improvement', 'in', 'themodel', 'structure', 'can', 'also', 'lead', 'to', 'better', 'interpretability.Keywords:', 'Feature', 'Interaction', '·XGBoost', '·Constraints', '·Interpretabil-ity1', 'IntroductionIn', 'statistics,', 'two', 'variables', 'X1andX2are', 'said', 'to', 'interact', 'when', 'the', 'e', 'ﬀect', 'ofX1on', 'a', 'target', 'variable', 'Yis', 'not', 'constant,', 'but', 'may', 'depend', 'on', 'the', 'value', 'of', 'X2.\"Eﬀect\"', 'here', 'refers', 'to', 'the', 'increase', 'or', 'decrease', 'of', 'Ythat', 'is', 'caused', 'by', 'a', 'changeinX1(while', 'keeping', 'X2constant).', 'Interaction', 'does', 'not', 'occur', 'in', 'linear', 'modelsof', 'the', 'formY=aX1+bX2an', 'unit', 'increase', 'of', 'X1by', '1', 'will', 'always', 'increase', 'Ybya(assuming', 'X2is', 'keptconstant).', 'On', 'the', 'other', 'hand,', 'a', 'model', 'of', 'the', 'formY=aX1+bX2+cX1X2does', 'have', 'interaction:', 'rewriting', 'it', 'asY=', '(a+cX2)X1+bX2makes', 'clear', 'that', 'a', 'unit', 'increase', 'of', 'X1increases', 'Ybya+cX2,', 'hence,', 'by', 'a', 'valuethat', 'depends', 'on', 'X2.', 'In', 'statistics,', 'a', 'common', 'way', 'to', 'detect', 'interaction', 'is', 'to', 'trainmodels', 'with', 'and', 'without', 'product', 'terms,', 'and', 'check', 'whether', 'the', 'ver', 'sion', 'with', 'aproduct', 'term', 'signi', 'ﬁcantly', 'outperforms', 'the', 'one', 'without.In', 'the', 'context', 'of', 'decision', 'trees,', 'X1andX2do', 'not', 'interact', 'if', 'the', 'followingholds:', 'whenever', 'a', 'test', 'of', 'X2is', 'used,', 'either', 'X2does', 'not', 'occur', 'in', 'any', 'of', 'thebranches,', 'or', 'if', 'it', 'does,', 'it', 'must', 'be', 'tested', 'in', 'exactly', 'the', 'same', 'w', 'ay', 'in', 'all', 'branches.Indeed,', 'if', 'we', 'would', 'have', 'a', 'test', 'X1<a', 'where', 'the', 'left', 'branch', 'contains', 'X2<b', 'andthe', 'right', 'one', 'does', 'not,', 'this', 'means', 'that', 'the', 'target', 'depends', 'on', 'X2ifX1<a,', 'butdoes', 'not', 'depend', 'on', 'it', 'if', 'X1>a;', 'that', 'is,', 'the', 'e', 'ﬀect', 'ofX2onYclearly', 'dependson', 'the', 'value', 'of', 'X1.', 'Obviously,', 'having', 'identical', 'sub-trees', 'in', 'the', 'left', 'and', 'righ', 't']\n"
          ]
        }
      ],
      "source": [
        "_text2b = []\n",
        "\n",
        "for text in _text2a:\n",
        "    if len(text) != 0:\n",
        "        _text2b.append(text)\n",
        "print(_text2b)"
      ]
    },
    {
      "cell_type": "markdown",
      "id": "0b185982",
      "metadata": {
        "id": "0b185982"
      },
      "source": [
        "#### Step 3 : Remove special characters, such as,  full  stop, comma, color,  semi-colon, etc. "
      ]
    },
    {
      "cell_type": "markdown",
      "id": "59027971",
      "metadata": {
        "id": "59027971"
      },
      "source": [
        "We need a special package called `re`, aka, `regular expression`"
      ]
    },
    {
      "cell_type": "code",
      "execution_count": 11,
      "id": "ef11c0aa",
      "metadata": {
        "id": "ef11c0aa"
      },
      "outputs": [],
      "source": [
        "import re"
      ]
    },
    {
      "cell_type": "markdown",
      "id": "8fe66d31",
      "metadata": {
        "id": "8fe66d31"
      },
      "source": [
        "Check and Learn : use 'sub' function to remove special characters"
      ]
    },
    {
      "cell_type": "code",
      "execution_count": 12,
      "id": "c86718a7",
      "metadata": {
        "id": "c86718a7"
      },
      "outputs": [],
      "source": [
        "#re.sub('[:;.\\[\\]]','','.[Bias Term];')"
      ]
    },
    {
      "cell_type": "code",
      "execution_count": 13,
      "id": "d6b7b19d",
      "metadata": {
        "id": "d6b7b19d",
        "outputId": "1469f557-d861-461b-c7df-c97dfe55b104",
        "colab": {
          "base_uri": "https://localhost:8080/"
        }
      },
      "outputs": [
        {
          "output_type": "stream",
          "name": "stdout",
          "text": [
            "['Feature', 'Interactions', 'in', 'XGBoostKshitij', 'Goyal', 'Sebastijan', 'Dumancic', 'Hendrik', 'BlockeelKU', 'Leuven', 'BelgiumAbstract', 'In', 'this', 'paper', 'We', 'investigate', 'how', 'feature', 'interactions', 'canbe', 'identi', 'ﬁed', 'to', 'be', 'used', 'as', 'constraints', 'in', 'gradient', 'boosting', 'tree', 'mod-els', 'through', 'XGBoost’s', 'implementation', 'Our', 'results', 'show', 'tha', 't', 'accurateidentiﬁcation', 'of', 'these', 'constraints', 'can', 'help', 'improve', 'the', 'performanc', 'eof', 'baseline', 'XGBoost', 'model', 'signi', 'ﬁcantly', 'Further', 'improvement', 'in', 'themodel', 'structure', 'can', 'also', 'lead', 'to', 'better', 'interpretabilityKeywords', 'Feature', 'Interaction', '·XGBoost', '·Constraints', '·Interpretabil-ity1', 'IntroductionIn', 'statistics', 'two', 'variables', 'X1andX2are', 'said', 'to', 'interact', 'when', 'the', 'e', 'ﬀect', 'ofX1on', 'a', 'target', 'variable', 'Yis', 'not', 'constant', 'but', 'may', 'depend', 'on', 'the', 'value', 'of', 'X2\"Eﬀect\"', 'here', 'refers', 'to', 'the', 'increase', 'or', 'decrease', 'of', 'Ythat', 'is', 'caused', 'by', 'a', 'changeinX1(while', 'keeping', 'X2constant)', 'Interaction', 'does', 'not', 'occur', 'in', 'linear', 'modelsof', 'the', 'formY=aX1+bX2an', 'unit', 'increase', 'of', 'X1by', '1', 'will', 'always', 'increase', 'Ybya(assuming', 'X2is', 'keptconstant)', 'On', 'the', 'other', 'hand', 'a', 'model', 'of', 'the', 'formY=aX1+bX2+cX1X2does', 'have', 'interaction', 'rewriting', 'it', 'asY=', '(a+cX2)X1+bX2makes', 'clear', 'that', 'a', 'unit', 'increase', 'of', 'X1increases', 'Ybya+cX2', 'hence', 'by', 'a', 'valuethat', 'depends', 'on', 'X2', 'In', 'statistics', 'a', 'common', 'way', 'to', 'detect', 'interaction', 'is', 'to', 'trainmodels', 'with', 'and', 'without', 'product', 'terms', 'and', 'check', 'whether', 'the', 'ver', 'sion', 'with', 'aproduct', 'term', 'signi', 'ﬁcantly', 'outperforms', 'the', 'one', 'withoutIn', 'the', 'context', 'of', 'decision', 'trees', 'X1andX2do', 'not', 'interact', 'if', 'the', 'followingholds', 'whenever', 'a', 'test', 'of', 'X2is', 'used', 'either', 'X2does', 'not', 'occur', 'in', 'any', 'of', 'thebranches', 'or', 'if', 'it', 'does', 'it', 'must', 'be', 'tested', 'in', 'exactly', 'the', 'same', 'w', 'ay', 'in', 'all', 'branchesIndeed', 'if', 'we', 'would', 'have', 'a', 'test', 'X1<a', 'where', 'the', 'left', 'branch', 'contains', 'X2<b', 'andthe', 'right', 'one', 'does', 'not', 'this', 'means', 'that', 'the', 'target', 'depends', 'on', 'X2ifX1<a', 'butdoes', 'not', 'depend', 'on', 'it', 'if', 'X1>a', 'that', 'is', 'the', 'e', 'ﬀect', 'ofX2onYclearly', 'dependson', 'the', 'value', 'of', 'X1', 'Obviously', 'having', 'identical', 'sub-trees', 'in', 'the', 'left', 'and', 'righ', 't']\n",
            "\n",
            "number of total strings : 291\n"
          ]
        }
      ],
      "source": [
        "_text3 = []\n",
        "\n",
        "for text in _text2b:\n",
        "    _text3.append(re.sub('[:,;.\\[\\]]', '', text))\n",
        "\n",
        "print(_text3)\n",
        "print('')\n",
        "print( 'number of total strings :', len(_text3) )"
      ]
    },
    {
      "cell_type": "markdown",
      "id": "903e8ff8",
      "metadata": {
        "id": "903e8ff8"
      },
      "source": [
        "#### Step 4 : Remove un-wanted  strings, such as, (i), (ii), (iii), ... etc."
      ]
    },
    {
      "cell_type": "code",
      "execution_count": null,
      "id": "2f80b5ec",
      "metadata": {
        "id": "2f80b5ec"
      },
      "outputs": [],
      "source": [
        "# s = '(i) this is item number one, (ii) this is item number two'\n",
        "# re.sub('\\([a-z]+\\)','',s)"
      ]
    },
    {
      "cell_type": "code",
      "execution_count": 14,
      "id": "0b5965e3",
      "metadata": {
        "id": "0b5965e3",
        "outputId": "02ebe885-f757-4787-858d-cc981246f46b",
        "colab": {
          "base_uri": "https://localhost:8080/"
        }
      },
      "outputs": [
        {
          "output_type": "stream",
          "name": "stdout",
          "text": [
            "['Feature', 'Interactions', 'in', 'XGBoostKshitij', 'Goyal', 'Sebastijan', 'Dumancic', 'Hendrik', 'BlockeelKU', 'Leuven', 'BelgiumAbstract', 'In', 'this', 'paper', 'We', 'investigate', 'how', 'feature', 'interactions', 'canbe', 'identi', 'ﬁed', 'to', 'be', 'used', 'as', 'constraints', 'in', 'gradient', 'boosting', 'tree', 'mod-els', 'through', 'XGBoost’s', 'implementation', 'Our', 'results', 'show', 'tha', 't', 'accurateidentiﬁcation', 'of', 'these', 'constraints', 'can', 'help', 'improve', 'the', 'performanc', 'eof', 'baseline', 'XGBoost', 'model', 'signi', 'ﬁcantly', 'Further', 'improvement', 'in', 'themodel', 'structure', 'can', 'also', 'lead', 'to', 'better', 'interpretabilityKeywords', 'Feature', 'Interaction', '·XGBoost', '·Constraints', '·Interpretabil-ity1', 'IntroductionIn', 'statistics', 'two', 'variables', 'X1andX2are', 'said', 'to', 'interact', 'when', 'the', 'e', 'ﬀect', 'ofX1on', 'a', 'target', 'variable', 'Yis', 'not', 'constant', 'but', 'may', 'depend', 'on', 'the', 'value', 'of', 'X2\"Eﬀect\"', 'here', 'refers', 'to', 'the', 'increase', 'or', 'decrease', 'of', 'Ythat', 'is', 'caused', 'by', 'a', 'changeinX1(while', 'keeping', 'X2constant)', 'Interaction', 'does', 'not', 'occur', 'in', 'linear', 'modelsof', 'the', 'formY=aX1+bX2an', 'unit', 'increase', 'of', 'X1by', '1', 'will', 'always', 'increase', 'Ybya(assuming', 'X2is', 'keptconstant)', 'On', 'the', 'other', 'hand', 'a', 'model', 'of', 'the', 'formY=aX1+bX2+cX1X2does', 'have', 'interaction', 'rewriting', 'it', 'asY=', '(a+cX2)X1+bX2makes', 'clear', 'that', 'a', 'unit', 'increase', 'of', 'X1increases', 'Ybya+cX2', 'hence', 'by', 'a', 'valuethat', 'depends', 'on', 'X2', 'In', 'statistics', 'a', 'common', 'way', 'to', 'detect', 'interaction', 'is', 'to', 'trainmodels', 'with', 'and', 'without', 'product', 'terms', 'and', 'check', 'whether', 'the', 'ver', 'sion', 'with', 'aproduct', 'term', 'signi', 'ﬁcantly', 'outperforms', 'the', 'one', 'withoutIn', 'the', 'context', 'of', 'decision', 'trees', 'X1andX2do', 'not', 'interact', 'if', 'the', 'followingholds', 'whenever', 'a', 'test', 'of', 'X2is', 'used', 'either', 'X2does', 'not', 'occur', 'in', 'any', 'of', 'thebranches', 'or', 'if', 'it', 'does', 'it', 'must', 'be', 'tested', 'in', 'exactly', 'the', 'same', 'w', 'ay', 'in', 'all', 'branchesIndeed', 'if', 'we', 'would', 'have', 'a', 'test', 'X1<a', 'where', 'the', 'left', 'branch', 'contains', 'X2<b', 'andthe', 'right', 'one', 'does', 'not', 'this', 'means', 'that', 'the', 'target', 'depends', 'on', 'X2ifX1<a', 'butdoes', 'not', 'depend', 'on', 'it', 'if', 'X1>a', 'that', 'is', 'the', 'e', 'ﬀect', 'ofX2onYclearly', 'dependson', 'the', 'value', 'of', 'X1', 'Obviously', 'having', 'identical', 'sub-trees', 'in', 'the', 'left', 'and', 'righ', 't']\n",
            "\n",
            "number of total strings : 291\n"
          ]
        }
      ],
      "source": [
        "_text4a = []\n",
        "\n",
        "for text in _text3:\n",
        "    _text4a.append(re.sub('\\([a-z]+\\)','',text))\n",
        "\n",
        "print(_text4a)\n",
        "print('')\n",
        "print( 'number of total strings :', len(_text4a) )"
      ]
    },
    {
      "cell_type": "markdown",
      "id": "7b91f7db",
      "metadata": {
        "id": "7b91f7db"
      },
      "source": [
        "Remove strings with length 0"
      ]
    },
    {
      "cell_type": "code",
      "execution_count": 15,
      "id": "bf5ab6d6",
      "metadata": {
        "id": "bf5ab6d6",
        "outputId": "dbcce8d1-17f4-480b-fb4d-14bace11c469",
        "colab": {
          "base_uri": "https://localhost:8080/"
        }
      },
      "outputs": [
        {
          "output_type": "stream",
          "name": "stdout",
          "text": [
            "['Feature', 'Interactions', 'in', 'XGBoostKshitij', 'Goyal', 'Sebastijan', 'Dumancic', 'Hendrik', 'BlockeelKU', 'Leuven', 'BelgiumAbstract', 'In', 'this', 'paper', 'We', 'investigate', 'how', 'feature', 'interactions', 'canbe', 'identi', 'ﬁed', 'to', 'be', 'used', 'as', 'constraints', 'in', 'gradient', 'boosting', 'tree', 'mod-els', 'through', 'XGBoost’s', 'implementation', 'Our', 'results', 'show', 'tha', 't', 'accurateidentiﬁcation', 'of', 'these', 'constraints', 'can', 'help', 'improve', 'the', 'performanc', 'eof', 'baseline', 'XGBoost', 'model', 'signi', 'ﬁcantly', 'Further', 'improvement', 'in', 'themodel', 'structure', 'can', 'also', 'lead', 'to', 'better', 'interpretabilityKeywords', 'Feature', 'Interaction', '·XGBoost', '·Constraints', '·Interpretabil-ity1', 'IntroductionIn', 'statistics', 'two', 'variables', 'X1andX2are', 'said', 'to', 'interact', 'when', 'the', 'e', 'ﬀect', 'ofX1on', 'a', 'target', 'variable', 'Yis', 'not', 'constant', 'but', 'may', 'depend', 'on', 'the', 'value', 'of', 'X2\"Eﬀect\"', 'here', 'refers', 'to', 'the', 'increase', 'or', 'decrease', 'of', 'Ythat', 'is', 'caused', 'by', 'a', 'changeinX1(while', 'keeping', 'X2constant)', 'Interaction', 'does', 'not', 'occur', 'in', 'linear', 'modelsof', 'the', 'formY=aX1+bX2an', 'unit', 'increase', 'of', 'X1by', '1', 'will', 'always', 'increase', 'Ybya(assuming', 'X2is', 'keptconstant)', 'On', 'the', 'other', 'hand', 'a', 'model', 'of', 'the', 'formY=aX1+bX2+cX1X2does', 'have', 'interaction', 'rewriting', 'it', 'asY=', '(a+cX2)X1+bX2makes', 'clear', 'that', 'a', 'unit', 'increase', 'of', 'X1increases', 'Ybya+cX2', 'hence', 'by', 'a', 'valuethat', 'depends', 'on', 'X2', 'In', 'statistics', 'a', 'common', 'way', 'to', 'detect', 'interaction', 'is', 'to', 'trainmodels', 'with', 'and', 'without', 'product', 'terms', 'and', 'check', 'whether', 'the', 'ver', 'sion', 'with', 'aproduct', 'term', 'signi', 'ﬁcantly', 'outperforms', 'the', 'one', 'withoutIn', 'the', 'context', 'of', 'decision', 'trees', 'X1andX2do', 'not', 'interact', 'if', 'the', 'followingholds', 'whenever', 'a', 'test', 'of', 'X2is', 'used', 'either', 'X2does', 'not', 'occur', 'in', 'any', 'of', 'thebranches', 'or', 'if', 'it', 'does', 'it', 'must', 'be', 'tested', 'in', 'exactly', 'the', 'same', 'w', 'ay', 'in', 'all', 'branchesIndeed', 'if', 'we', 'would', 'have', 'a', 'test', 'X1<a', 'where', 'the', 'left', 'branch', 'contains', 'X2<b', 'andthe', 'right', 'one', 'does', 'not', 'this', 'means', 'that', 'the', 'target', 'depends', 'on', 'X2ifX1<a', 'butdoes', 'not', 'depend', 'on', 'it', 'if', 'X1>a', 'that', 'is', 'the', 'e', 'ﬀect', 'ofX2onYclearly', 'dependson', 'the', 'value', 'of', 'X1', 'Obviously', 'having', 'identical', 'sub-trees', 'in', 'the', 'left', 'and', 'righ', 't']\n",
            "\n",
            "number of total strings : 291\n"
          ]
        }
      ],
      "source": [
        "_text4b = []\n",
        "\n",
        "for text in _text4a:\n",
        "    if len(text) != 0:\n",
        "        _text4b.append(text)\n",
        "print(_text4b)\n",
        "print('')\n",
        "print( 'number of total strings :', len(_text4b) )"
      ]
    },
    {
      "cell_type": "markdown",
      "id": "720c0212",
      "metadata": {
        "id": "720c0212"
      },
      "source": [
        "#### Step 5 : Lower case all strings"
      ]
    },
    {
      "cell_type": "markdown",
      "id": "adabc4c2",
      "metadata": {
        "id": "adabc4c2"
      },
      "source": [
        "Check & Learn : Lower case a string "
      ]
    },
    {
      "cell_type": "code",
      "execution_count": 16,
      "id": "320c6947",
      "metadata": {
        "id": "320c6947"
      },
      "outputs": [],
      "source": [
        "#'BANGLADESH'.lower()\n",
        "#'Bangladesh'.lower()"
      ]
    },
    {
      "cell_type": "code",
      "execution_count": 17,
      "id": "c1640f36",
      "metadata": {
        "id": "c1640f36",
        "outputId": "0950db78-7d58-4e98-be37-a2f1593f9d76",
        "colab": {
          "base_uri": "https://localhost:8080/"
        }
      },
      "outputs": [
        {
          "output_type": "stream",
          "name": "stdout",
          "text": [
            "['feature', 'interactions', 'in', 'xgboostkshitij', 'goyal', 'sebastijan', 'dumancic', 'hendrik', 'blockeelku', 'leuven', 'belgiumabstract', 'in', 'this', 'paper', 'we', 'investigate', 'how', 'feature', 'interactions', 'canbe', 'identi', 'ﬁed', 'to', 'be', 'used', 'as', 'constraints', 'in', 'gradient', 'boosting', 'tree', 'mod-els', 'through', 'xgboost’s', 'implementation', 'our', 'results', 'show', 'tha', 't', 'accurateidentiﬁcation', 'of', 'these', 'constraints', 'can', 'help', 'improve', 'the', 'performanc', 'eof', 'baseline', 'xgboost', 'model', 'signi', 'ﬁcantly', 'further', 'improvement', 'in', 'themodel', 'structure', 'can', 'also', 'lead', 'to', 'better', 'interpretabilitykeywords', 'feature', 'interaction', '·xgboost', '·constraints', '·interpretabil-ity1', 'introductionin', 'statistics', 'two', 'variables', 'x1andx2are', 'said', 'to', 'interact', 'when', 'the', 'e', 'ﬀect', 'ofx1on', 'a', 'target', 'variable', 'yis', 'not', 'constant', 'but', 'may', 'depend', 'on', 'the', 'value', 'of', 'x2\"eﬀect\"', 'here', 'refers', 'to', 'the', 'increase', 'or', 'decrease', 'of', 'ythat', 'is', 'caused', 'by', 'a', 'changeinx1(while', 'keeping', 'x2constant)', 'interaction', 'does', 'not', 'occur', 'in', 'linear', 'modelsof', 'the', 'formy=ax1+bx2an', 'unit', 'increase', 'of', 'x1by', '1', 'will', 'always', 'increase', 'ybya(assuming', 'x2is', 'keptconstant)', 'on', 'the', 'other', 'hand', 'a', 'model', 'of', 'the', 'formy=ax1+bx2+cx1x2does', 'have', 'interaction', 'rewriting', 'it', 'asy=', '(a+cx2)x1+bx2makes', 'clear', 'that', 'a', 'unit', 'increase', 'of', 'x1increases', 'ybya+cx2', 'hence', 'by', 'a', 'valuethat', 'depends', 'on', 'x2', 'in', 'statistics', 'a', 'common', 'way', 'to', 'detect', 'interaction', 'is', 'to', 'trainmodels', 'with', 'and', 'without', 'product', 'terms', 'and', 'check', 'whether', 'the', 'ver', 'sion', 'with', 'aproduct', 'term', 'signi', 'ﬁcantly', 'outperforms', 'the', 'one', 'withoutin', 'the', 'context', 'of', 'decision', 'trees', 'x1andx2do', 'not', 'interact', 'if', 'the', 'followingholds', 'whenever', 'a', 'test', 'of', 'x2is', 'used', 'either', 'x2does', 'not', 'occur', 'in', 'any', 'of', 'thebranches', 'or', 'if', 'it', 'does', 'it', 'must', 'be', 'tested', 'in', 'exactly', 'the', 'same', 'w', 'ay', 'in', 'all', 'branchesindeed', 'if', 'we', 'would', 'have', 'a', 'test', 'x1<a', 'where', 'the', 'left', 'branch', 'contains', 'x2<b', 'andthe', 'right', 'one', 'does', 'not', 'this', 'means', 'that', 'the', 'target', 'depends', 'on', 'x2ifx1<a', 'butdoes', 'not', 'depend', 'on', 'it', 'if', 'x1>a', 'that', 'is', 'the', 'e', 'ﬀect', 'ofx2onyclearly', 'dependson', 'the', 'value', 'of', 'x1', 'obviously', 'having', 'identical', 'sub-trees', 'in', 'the', 'left', 'and', 'righ', 't']\n",
            "\n",
            "number of total strings : 291\n"
          ]
        }
      ],
      "source": [
        "_text5 = []\n",
        "for text in _text4b:\n",
        "    _text5.append(str(text).lower())\n",
        "print(_text5)\n",
        "print('')\n",
        "print( 'number of total strings :', len(_text5) )"
      ]
    },
    {
      "cell_type": "markdown",
      "id": "f4cf001a",
      "metadata": {
        "id": "f4cf001a"
      },
      "source": [
        "#### Step 6 : There are some compound strings, such as, seperated by dash. Need  to fix those strings."
      ]
    },
    {
      "cell_type": "markdown",
      "id": "854fccb2",
      "metadata": {
        "id": "854fccb2"
      },
      "source": [
        "Check & Learn : append() method of a list"
      ]
    },
    {
      "cell_type": "code",
      "execution_count": null,
      "id": "24159b15",
      "metadata": {
        "id": "24159b15"
      },
      "outputs": [],
      "source": [
        "# a = [1,2,3]\n",
        "# b = 99          # here b is a scalar\n",
        "# a.append(b)\n",
        "# print(a)"
      ]
    },
    {
      "cell_type": "markdown",
      "id": "2385d19b",
      "metadata": {
        "id": "2385d19b"
      },
      "source": [
        "Check & Learn : extend() method of a list"
      ]
    },
    {
      "cell_type": "code",
      "execution_count": null,
      "id": "3d077295",
      "metadata": {
        "id": "3d077295"
      },
      "outputs": [],
      "source": [
        "# a = [1,2,3]\n",
        "# b = [99]        # here b is a single-element list\n",
        "# a.extend(b)\n",
        "# print(a)"
      ]
    },
    {
      "cell_type": "code",
      "execution_count": 18,
      "id": "7ba5ffd1",
      "metadata": {
        "id": "7ba5ffd1"
      },
      "outputs": [],
      "source": [
        "_text6 = []\n",
        "\n",
        "for elem in _text5:\n",
        "    e = elem.split('-')\n",
        "\n",
        "    if len(e) == 1:\n",
        "        _text6.append(e[0])\n",
        "    elif len(e) > 1:\n",
        "        _text6.extend(e)\n",
        "    else:\n",
        "        pass"
      ]
    },
    {
      "cell_type": "code",
      "execution_count": 19,
      "id": "3e571bc4",
      "metadata": {
        "id": "3e571bc4",
        "outputId": "57944e5d-3a31-466f-8bfc-fe9d1d9a02d5",
        "colab": {
          "base_uri": "https://localhost:8080/"
        }
      },
      "outputs": [
        {
          "output_type": "stream",
          "name": "stdout",
          "text": [
            "['feature', 'interactions', 'in', 'xgboostkshitij', 'goyal', 'sebastijan', 'dumancic', 'hendrik', 'blockeelku', 'leuven', 'belgiumabstract', 'in', 'this', 'paper', 'we', 'investigate', 'how', 'feature', 'interactions', 'canbe', 'identi', 'ﬁed', 'to', 'be', 'used', 'as', 'constraints', 'in', 'gradient', 'boosting', 'tree', 'mod', 'els', 'through', 'xgboost’s', 'implementation', 'our', 'results', 'show', 'tha', 't', 'accurateidentiﬁcation', 'of', 'these', 'constraints', 'can', 'help', 'improve', 'the', 'performanc', 'eof', 'baseline', 'xgboost', 'model', 'signi', 'ﬁcantly', 'further', 'improvement', 'in', 'themodel', 'structure', 'can', 'also', 'lead', 'to', 'better', 'interpretabilitykeywords', 'feature', 'interaction', '·xgboost', '·constraints', '·interpretabil', 'ity1', 'introductionin', 'statistics', 'two', 'variables', 'x1andx2are', 'said', 'to', 'interact', 'when', 'the', 'e', 'ﬀect', 'ofx1on', 'a', 'target', 'variable', 'yis', 'not', 'constant', 'but', 'may', 'depend', 'on', 'the', 'value', 'of', 'x2\"eﬀect\"', 'here', 'refers', 'to', 'the', 'increase', 'or', 'decrease', 'of', 'ythat', 'is', 'caused', 'by', 'a', 'changeinx1(while', 'keeping', 'x2constant)', 'interaction', 'does', 'not', 'occur', 'in', 'linear', 'modelsof', 'the', 'formy=ax1+bx2an', 'unit', 'increase', 'of', 'x1by', '1', 'will', 'always', 'increase', 'ybya(assuming', 'x2is', 'keptconstant)', 'on', 'the', 'other', 'hand', 'a', 'model', 'of', 'the', 'formy=ax1+bx2+cx1x2does', 'have', 'interaction', 'rewriting', 'it', 'asy=', '(a+cx2)x1+bx2makes', 'clear', 'that', 'a', 'unit', 'increase', 'of', 'x1increases', 'ybya+cx2', 'hence', 'by', 'a', 'valuethat', 'depends', 'on', 'x2', 'in', 'statistics', 'a', 'common', 'way', 'to', 'detect', 'interaction', 'is', 'to', 'trainmodels', 'with', 'and', 'without', 'product', 'terms', 'and', 'check', 'whether', 'the', 'ver', 'sion', 'with', 'aproduct', 'term', 'signi', 'ﬁcantly', 'outperforms', 'the', 'one', 'withoutin', 'the', 'context', 'of', 'decision', 'trees', 'x1andx2do', 'not', 'interact', 'if', 'the', 'followingholds', 'whenever', 'a', 'test', 'of', 'x2is', 'used', 'either', 'x2does', 'not', 'occur', 'in', 'any', 'of', 'thebranches', 'or', 'if', 'it', 'does', 'it', 'must', 'be', 'tested', 'in', 'exactly', 'the', 'same', 'w', 'ay', 'in', 'all', 'branchesindeed', 'if', 'we', 'would', 'have', 'a', 'test', 'x1<a', 'where', 'the', 'left', 'branch', 'contains', 'x2<b', 'andthe', 'right', 'one', 'does', 'not', 'this', 'means', 'that', 'the', 'target', 'depends', 'on', 'x2ifx1<a', 'butdoes', 'not', 'depend', 'on', 'it', 'if', 'x1>a', 'that', 'is', 'the', 'e', 'ﬀect', 'ofx2onyclearly', 'dependson', 'the', 'value', 'of', 'x1', 'obviously', 'having', 'identical', 'sub', 'trees', 'in', 'the', 'left', 'and', 'righ', 't']\n",
            "\n",
            "number of total strings : 294\n"
          ]
        }
      ],
      "source": [
        "print(_text6)\n",
        "print('')\n",
        "print( 'number of total strings :', len(_text6) )"
      ]
    },
    {
      "cell_type": "markdown",
      "id": "5c1e3f03",
      "metadata": {
        "id": "5c1e3f03"
      },
      "source": [
        "#### Step 7 : Remove stopwords"
      ]
    },
    {
      "cell_type": "markdown",
      "id": "c8112133",
      "metadata": {
        "id": "c8112133"
      },
      "source": [
        "First import `nltk` package"
      ]
    },
    {
      "cell_type": "code",
      "execution_count": 20,
      "id": "6e509814",
      "metadata": {
        "id": "6e509814"
      },
      "outputs": [],
      "source": [
        "# pip3 install nltk\n",
        "import nltk\n"
      ]
    },
    {
      "cell_type": "markdown",
      "id": "645713ec",
      "metadata": {
        "id": "645713ec"
      },
      "source": [
        "Download `stopwords`"
      ]
    },
    {
      "cell_type": "code",
      "execution_count": 21,
      "id": "ce79023e",
      "metadata": {
        "id": "ce79023e",
        "colab": {
          "base_uri": "https://localhost:8080/"
        },
        "outputId": "589ebfb8-f300-4a5e-97db-3185e879478e"
      },
      "outputs": [
        {
          "output_type": "stream",
          "name": "stderr",
          "text": [
            "[nltk_data] Downloading package stopwords to /root/nltk_data...\n",
            "[nltk_data]   Unzipping corpora/stopwords.zip.\n"
          ]
        },
        {
          "output_type": "execute_result",
          "data": {
            "text/plain": [
              "True"
            ]
          },
          "metadata": {},
          "execution_count": 21
        }
      ],
      "source": [
        "# use this only once\n",
        "#nltk.download('stopwords')"
      ]
    },
    {
      "cell_type": "markdown",
      "id": "04e1721f",
      "metadata": {
        "id": "04e1721f"
      },
      "source": [
        "Look at the list of english `stopwords`"
      ]
    },
    {
      "cell_type": "code",
      "execution_count": 22,
      "id": "c7d50cb9",
      "metadata": {
        "id": "c7d50cb9",
        "outputId": "919f44e8-b12b-471d-f642-1727c08638c6",
        "colab": {
          "base_uri": "https://localhost:8080/"
        }
      },
      "outputs": [
        {
          "output_type": "execute_result",
          "data": {
            "text/plain": [
              "['i',\n",
              " 'me',\n",
              " 'my',\n",
              " 'myself',\n",
              " 'we',\n",
              " 'our',\n",
              " 'ours',\n",
              " 'ourselves',\n",
              " 'you',\n",
              " \"you're\",\n",
              " \"you've\",\n",
              " \"you'll\",\n",
              " \"you'd\",\n",
              " 'your',\n",
              " 'yours',\n",
              " 'yourself',\n",
              " 'yourselves',\n",
              " 'he',\n",
              " 'him',\n",
              " 'his',\n",
              " 'himself',\n",
              " 'she',\n",
              " \"she's\",\n",
              " 'her',\n",
              " 'hers',\n",
              " 'herself',\n",
              " 'it',\n",
              " \"it's\",\n",
              " 'its',\n",
              " 'itself',\n",
              " 'they',\n",
              " 'them',\n",
              " 'their',\n",
              " 'theirs',\n",
              " 'themselves',\n",
              " 'what',\n",
              " 'which',\n",
              " 'who',\n",
              " 'whom',\n",
              " 'this',\n",
              " 'that',\n",
              " \"that'll\",\n",
              " 'these',\n",
              " 'those',\n",
              " 'am',\n",
              " 'is',\n",
              " 'are',\n",
              " 'was',\n",
              " 'were',\n",
              " 'be',\n",
              " 'been',\n",
              " 'being',\n",
              " 'have',\n",
              " 'has',\n",
              " 'had',\n",
              " 'having',\n",
              " 'do',\n",
              " 'does',\n",
              " 'did',\n",
              " 'doing',\n",
              " 'a',\n",
              " 'an',\n",
              " 'the',\n",
              " 'and',\n",
              " 'but',\n",
              " 'if',\n",
              " 'or',\n",
              " 'because',\n",
              " 'as',\n",
              " 'until',\n",
              " 'while',\n",
              " 'of',\n",
              " 'at',\n",
              " 'by',\n",
              " 'for',\n",
              " 'with',\n",
              " 'about',\n",
              " 'against',\n",
              " 'between',\n",
              " 'into',\n",
              " 'through',\n",
              " 'during',\n",
              " 'before',\n",
              " 'after',\n",
              " 'above',\n",
              " 'below',\n",
              " 'to',\n",
              " 'from',\n",
              " 'up',\n",
              " 'down',\n",
              " 'in',\n",
              " 'out',\n",
              " 'on',\n",
              " 'off',\n",
              " 'over',\n",
              " 'under',\n",
              " 'again',\n",
              " 'further',\n",
              " 'then',\n",
              " 'once',\n",
              " 'here',\n",
              " 'there',\n",
              " 'when',\n",
              " 'where',\n",
              " 'why',\n",
              " 'how',\n",
              " 'all',\n",
              " 'any',\n",
              " 'both',\n",
              " 'each',\n",
              " 'few',\n",
              " 'more',\n",
              " 'most',\n",
              " 'other',\n",
              " 'some',\n",
              " 'such',\n",
              " 'no',\n",
              " 'nor',\n",
              " 'not',\n",
              " 'only',\n",
              " 'own',\n",
              " 'same',\n",
              " 'so',\n",
              " 'than',\n",
              " 'too',\n",
              " 'very',\n",
              " 's',\n",
              " 't',\n",
              " 'can',\n",
              " 'will',\n",
              " 'just',\n",
              " 'don',\n",
              " \"don't\",\n",
              " 'should',\n",
              " \"should've\",\n",
              " 'now',\n",
              " 'd',\n",
              " 'll',\n",
              " 'm',\n",
              " 'o',\n",
              " 're',\n",
              " 've',\n",
              " 'y',\n",
              " 'ain',\n",
              " 'aren',\n",
              " \"aren't\",\n",
              " 'couldn',\n",
              " \"couldn't\",\n",
              " 'didn',\n",
              " \"didn't\",\n",
              " 'doesn',\n",
              " \"doesn't\",\n",
              " 'hadn',\n",
              " \"hadn't\",\n",
              " 'hasn',\n",
              " \"hasn't\",\n",
              " 'haven',\n",
              " \"haven't\",\n",
              " 'isn',\n",
              " \"isn't\",\n",
              " 'ma',\n",
              " 'mightn',\n",
              " \"mightn't\",\n",
              " 'mustn',\n",
              " \"mustn't\",\n",
              " 'needn',\n",
              " \"needn't\",\n",
              " 'shan',\n",
              " \"shan't\",\n",
              " 'shouldn',\n",
              " \"shouldn't\",\n",
              " 'wasn',\n",
              " \"wasn't\",\n",
              " 'weren',\n",
              " \"weren't\",\n",
              " 'won',\n",
              " \"won't\",\n",
              " 'wouldn',\n",
              " \"wouldn't\"]"
            ]
          },
          "metadata": {},
          "execution_count": 22
        }
      ],
      "source": [
        "nltk.corpus.stopwords.words('english')"
      ]
    },
    {
      "cell_type": "markdown",
      "id": "6a839abd",
      "metadata": {
        "id": "6a839abd"
      },
      "source": [
        "How can you find Bangla stopwords?"
      ]
    },
    {
      "cell_type": "code",
      "execution_count": 23,
      "id": "cbfda387",
      "metadata": {
        "id": "cbfda387",
        "outputId": "1cab3948-cf75-4f10-ac93-1773c6f147d7",
        "colab": {
          "base_uri": "https://localhost:8080/"
        }
      },
      "outputs": [
        {
          "output_type": "stream",
          "name": "stdout",
          "text": [
            "['অতএব', 'অথচ', 'অথবা', 'অনুযায়ী', 'অনেক', 'অনেকে', 'অনেকেই', 'অন্তত', 'অন্য', 'অবধি', 'অবশ্য', 'অর্থাত', 'আই', 'আগামী', 'আগে', 'আগেই', 'আছে', 'আজ', 'আদ্যভাগে', 'আপনার', 'আপনি', 'আবার', 'আমরা', 'আমাকে', 'আমাদের', 'আমার', 'আমি', 'আর', 'আরও', 'ই', 'ইত্যাদি', 'ইহা', 'উচিত', 'উত্তর', 'উনি', 'উপর', 'উপরে', 'এ', 'এঁদের', 'এঁরা', 'এই', 'একই', 'একটি', 'একবার', 'একে', 'এক্', 'এখন', 'এখনও', 'এখানে', 'এখানেই', 'এটা', 'এটাই', 'এটি', 'এত', 'এতটাই', 'এতে', 'এদের', 'এব', 'এবং', 'এবার', 'এমন', 'এমনকী', 'এমনি', 'এর', 'এরা', 'এল', 'এস', 'এসে', 'ঐ', 'ও', 'ওঁদের', 'ওঁর', 'ওঁরা', 'ওই', 'ওকে', 'ওখানে', 'ওদের', 'ওর', 'ওরা', 'কখনও', 'কত', 'কবে', 'কমনে', 'কয়েক', 'কয়েকটি', 'করছে', 'করছেন', 'করতে', 'করবে', 'করবেন', 'করলে', 'করলেন', 'করা', 'করাই', 'করায়', 'করার', 'করি', 'করিতে', 'করিয়া', 'করিয়ে', 'করে', 'করেই', 'করেছিলেন', 'করেছে', 'করেছেন', 'করেন', 'কাউকে', 'কাছ', 'কাছে', 'কাজ', 'কাজে', 'কারও', 'কারণ', 'কি', 'কিংবা', 'কিছু', 'কিছুই', 'কিন্তু', 'কী', 'কে', 'কেউ', 'কেউই', 'কেখা', 'কেন', 'কোটি', 'কোন', 'কোনও', 'কোনো', 'ক্ষেত্রে', 'কয়েক', 'খুব', 'গিয়ে', 'গিয়েছে', 'গিয়ে', 'গুলি', 'গেছে', 'গেল', 'গেলে', 'গোটা', 'চলে', 'চান', 'চায়', 'চার', 'চালু', 'চেয়ে', 'চেষ্টা', 'ছাড়া', 'ছাড়াও', 'ছিল', 'ছিলেন', 'জন', 'জনকে', 'জনের', 'জন্য', 'জন্যওজে', 'জানতে', 'জানা', 'জানানো', 'জানায়', 'জানিয়ে', 'জানিয়েছে', 'জে', 'জ্নজন', 'টি', 'ঠিক', 'তখন', 'তত', 'তথা', 'তবু', 'তবে', 'তা', 'তাঁকে', 'তাঁদের', 'তাঁর', 'তাঁরা', 'তাঁাহারা', 'তাই', 'তাও', 'তাকে', 'তাতে', 'তাদের', 'তার', 'তারপর', 'তারা', 'তারৈ', 'তাহলে', 'তাহা', 'তাহাতে', 'তাহার', 'তিনঐ', 'তিনি', 'তিনিও', 'তুমি', 'তুলে', 'তেমন', 'তো', 'তোমার', 'থাকবে', 'থাকবেন', 'থাকা', 'থাকায়', 'থাকে', 'থাকেন', 'থেকে', 'থেকেই', 'থেকেও', 'দিকে', 'দিতে', 'দিন', 'দিয়ে', 'দিয়েছে', 'দিয়েছেন', 'দিলেন', 'দু', 'দুই', 'দুটি', 'দুটো', 'দেওয়া', 'দেওয়ার', 'দেওয়া', 'দেখতে', 'দেখা', 'দেখে', 'দেন', 'দেয়', 'দ্বারা', 'ধরা', 'ধরে', 'ধামার', 'নতুন', 'নয়', 'না', 'নাই', 'নাকি', 'নাগাদ', 'নানা', 'নিজে', 'নিজেই', 'নিজেদের', 'নিজের', 'নিতে', 'নিয়ে', 'নিয়ে', 'নেই', 'নেওয়া', 'নেওয়ার', 'নেওয়া', 'নয়', 'পক্ষে', 'পর', 'পরে', 'পরেই', 'পরেও', 'পর্যন্ত', 'পাওয়া', 'পাচ', 'পারি', 'পারে', 'পারেন', 'পি', 'পেয়ে', 'পেয়্র্', 'প্রতি', 'প্রথম', 'প্রভৃতি', 'প্রযন্ত', 'প্রাথমিক', 'প্রায়', 'প্রায়', 'ফলে', 'ফিরে', 'ফের', 'বক্তব্য', 'বদলে', 'বন', 'বরং', 'বলতে', 'বলল', 'বললেন', 'বলা', 'বলে', 'বলেছেন', 'বলেন', 'বসে', 'বহু', 'বা', 'বাদে', 'বার', 'বি', 'বিনা', 'বিভিন্ন', 'বিশেষ', 'বিষয়টি', 'বেশ', 'বেশি', 'ব্যবহার', 'ব্যাপারে', 'ভাবে', 'ভাবেই', 'মতো', 'মতোই', 'মধ্যভাগে', 'মধ্যে', 'মধ্যেই', 'মধ্যেও', 'মনে', 'মাত্র', 'মাধ্যমে', 'মোট', 'মোটেই', 'যখন', 'যত', 'যতটা', 'যথেষ্ট', 'যদি', 'যদিও', 'যা', 'যাঁর', 'যাঁরা', 'যাওয়া', 'যাওয়ার', 'যাওয়া', 'যাকে', 'যাচ্ছে', 'যাতে', 'যাদের', 'যান', 'যাবে', 'যায়', 'যার', 'যারা', 'যিনি', 'যে', 'যেখানে', 'যেতে', 'যেন', 'যেমন', 'র', 'রকম', 'রয়েছে', 'রাখা', 'রেখে', 'লক্ষ', 'শুধু', 'শুরু', 'সঙ্গে', 'সঙ্গেও', 'সব', 'সবার', 'সমস্ত', 'সম্প্রতি', 'সহ', 'সহিত', 'সাধারণ', 'সামনে', 'সি', 'সুতরাং', 'সে', 'সেই', 'সেখান', 'সেখানে', 'সেটা', 'সেটাই', 'সেটাও', 'সেটি', 'স্পষ্ট', 'স্বয়ং', 'হইতে', 'হইবে', 'হইয়া', 'হওয়া', 'হওয়ায়', 'হওয়ার', 'হচ্ছে', 'হত', 'হতে', 'হতেই', 'হন', 'হবে', 'হবেন', 'হয়', 'হয়তো', 'হয়নি', 'হয়ে', 'হয়েই', 'হয়েছিল', 'হয়েছে', 'হয়েছেন', 'হল', 'হলে', 'হলেই', 'হলেও', 'হলো', 'হাজার', 'হিসাবে', 'হৈলে', 'হোক', 'হয়']\n"
          ]
        }
      ],
      "source": [
        "print(nltk.corpus.stopwords.words('bengali'))"
      ]
    },
    {
      "cell_type": "markdown",
      "id": "a72605b9",
      "metadata": {
        "id": "a72605b9"
      },
      "source": [
        "Remove english stopwords from the list `_text6`"
      ]
    },
    {
      "cell_type": "code",
      "execution_count": 24,
      "id": "239fb879",
      "metadata": {
        "id": "239fb879"
      },
      "outputs": [],
      "source": [
        "# _text7 = [ w for w in _text6 if not w.lower() in stopwords.words('english')]\n",
        "stopwords = nltk.corpus.stopwords.words('english')\n",
        "_text7 = []\n",
        "\n",
        "for w in _text6:\n",
        "    if not w.lower() in stopwords:\n",
        "        _text7.append(w)\n",
        "\n",
        "\n",
        "# write your code here"
      ]
    },
    {
      "cell_type": "code",
      "execution_count": 25,
      "id": "4d1051ed",
      "metadata": {
        "id": "4d1051ed",
        "outputId": "70cd6130-b918-44a2-f57a-dccf056e7295",
        "colab": {
          "base_uri": "https://localhost:8080/"
        }
      },
      "outputs": [
        {
          "output_type": "stream",
          "name": "stdout",
          "text": [
            "['feature', 'interactions', 'xgboostkshitij', 'goyal', 'sebastijan', 'dumancic', 'hendrik', 'blockeelku', 'leuven', 'belgiumabstract', 'paper', 'investigate', 'feature', 'interactions', 'canbe', 'identi', 'ﬁed', 'used', 'constraints', 'gradient', 'boosting', 'tree', 'mod', 'els', 'xgboost’s', 'implementation', 'results', 'show', 'tha', 'accurateidentiﬁcation', 'constraints', 'help', 'improve', 'performanc', 'eof', 'baseline', 'xgboost', 'model', 'signi', 'ﬁcantly', 'improvement', 'themodel', 'structure', 'also', 'lead', 'better', 'interpretabilitykeywords', 'feature', 'interaction', '·xgboost', '·constraints', '·interpretabil', 'ity1', 'introductionin', 'statistics', 'two', 'variables', 'x1andx2are', 'said', 'interact', 'e', 'ﬀect', 'ofx1on', 'target', 'variable', 'yis', 'constant', 'may', 'depend', 'value', 'x2\"eﬀect\"', 'refers', 'increase', 'decrease', 'ythat', 'caused', 'changeinx1(while', 'keeping', 'x2constant)', 'interaction', 'occur', 'linear', 'modelsof', 'formy=ax1+bx2an', 'unit', 'increase', 'x1by', '1', 'always', 'increase', 'ybya(assuming', 'x2is', 'keptconstant)', 'hand', 'model', 'formy=ax1+bx2+cx1x2does', 'interaction', 'rewriting', 'asy=', '(a+cx2)x1+bx2makes', 'clear', 'unit', 'increase', 'x1increases', 'ybya+cx2', 'hence', 'valuethat', 'depends', 'x2', 'statistics', 'common', 'way', 'detect', 'interaction', 'trainmodels', 'without', 'product', 'terms', 'check', 'whether', 'ver', 'sion', 'aproduct', 'term', 'signi', 'ﬁcantly', 'outperforms', 'one', 'withoutin', 'context', 'decision', 'trees', 'x1andx2do', 'interact', 'followingholds', 'whenever', 'test', 'x2is', 'used', 'either', 'x2does', 'occur', 'thebranches', 'must', 'tested', 'exactly', 'w', 'ay', 'branchesindeed', 'would', 'test', 'x1<a', 'left', 'branch', 'contains', 'x2<b', 'andthe', 'right', 'one', 'means', 'target', 'depends', 'x2ifx1<a', 'butdoes', 'depend', 'x1>a', 'e', 'ﬀect', 'ofx2onyclearly', 'dependson', 'value', 'x1', 'obviously', 'identical', 'sub', 'trees', 'left', 'righ']\n",
            "\n",
            "number of total strings : 178\n"
          ]
        }
      ],
      "source": [
        "print( _text7 )\n",
        "print('')\n",
        "print( 'number of total strings :', len(_text7) )"
      ]
    },
    {
      "cell_type": "markdown",
      "id": "b6f8498f",
      "metadata": {
        "id": "b6f8498f"
      },
      "source": [
        "#### Step 8 : Stemming words   \n",
        "\n",
        "`!!!! Use this step with caution !!!!`"
      ]
    },
    {
      "cell_type": "code",
      "execution_count": 26,
      "id": "3ece6bc4",
      "metadata": {
        "id": "3ece6bc4"
      },
      "outputs": [],
      "source": [
        "# from nltk.stem.snowball import EnglishStemmer\n",
        "from nltk.stem import WordNetLemmatizer\n",
        "# nltk.download('wordnet')\n",
        "# nltk.download('omw-1.4')\n",
        "from nltk.stem import PorterStemmer\n"
      ]
    },
    {
      "cell_type": "markdown",
      "id": "82a17011",
      "metadata": {
        "id": "82a17011"
      },
      "source": []
    },
    {
      "cell_type": "code",
      "execution_count": 27,
      "id": "9e74cc8e",
      "metadata": {
        "id": "9e74cc8e"
      },
      "outputs": [],
      "source": [
        "from nltk.stem.snowball import EnglishStemmer"
      ]
    },
    {
      "cell_type": "code",
      "execution_count": 28,
      "id": "8bd0313b",
      "metadata": {
        "id": "8bd0313b",
        "outputId": "95ffd118-cb90-42b3-e0d3-1fd89827da69",
        "colab": {
          "base_uri": "https://localhost:8080/"
        }
      },
      "outputs": [
        {
          "output_type": "stream",
          "name": "stdout",
          "text": [
            "['featur', 'interact', 'xgboostkshitij', 'goyal', 'sebastijan', 'dumanc', 'hendrik', 'blockeelku', 'leuven', 'belgiumabstract', 'paper', 'investig', 'featur', 'interact', 'canb', 'identi', 'ﬁed', 'use', 'constraint', 'gradient', 'boost', 'tree', 'mod', 'el', 'xgboost', 'implement', 'result', 'show', 'tha', 'accurateidentiﬁc', 'constraint', 'help', 'improv', 'performanc', 'eof', 'baselin', 'xgboost', 'model', 'signi', 'ﬁcant', 'improv', 'themodel', 'structur', 'also', 'lead', 'better', 'interpretabilitykeyword', 'featur', 'interact', '·xgboost', '·constraint', '·interpretabil', 'ity1', 'introductionin', 'statist', 'two', 'variabl', 'x1andx2ar', 'said', 'interact', 'e', 'ﬀect', 'ofx1on', 'target', 'variabl', 'yis', 'constant', 'may', 'depend', 'valu', 'x2\"eﬀect\"', 'refer', 'increas', 'decreas', 'ythat', 'caus', 'changeinx1(whil', 'keep', 'x2constant)', 'interact', 'occur', 'linear', 'modelsof', 'formy=ax1+bx2an', 'unit', 'increas', 'x1bi', '1', 'alway', 'increas', 'ybya(assum', 'x2is', 'keptconstant)', 'hand', 'model', 'formy=ax1+bx2+cx1x2do', 'interact', 'rewrit', 'asy=', '(a+cx2)x1+bx2mak', 'clear', 'unit', 'increas', 'x1increas', 'ybya+cx2', 'henc', 'valuethat', 'depend', 'x2', 'statist', 'common', 'way', 'detect', 'interact', 'trainmodel', 'without', 'product', 'term', 'check', 'whether', 'ver', 'sion', 'aproduct', 'term', 'signi', 'ﬁcant', 'outperform', 'one', 'withoutin', 'context', 'decis', 'tree', 'x1andx2do', 'interact', 'followinghold', 'whenev', 'test', 'x2is', 'use', 'either', 'x2doe', 'occur', 'thebranch', 'must', 'test', 'exact', 'w', 'ay', 'branchesinde', 'would', 'test', 'x1<a', 'left', 'branch', 'contain', 'x2<b', 'andth', 'right', 'one', 'mean', 'target', 'depend', 'x2ifx1<a', 'butdo', 'depend', 'x1>a', 'e', 'ﬀect', 'ofx2onyclear', 'dependson', 'valu', 'x1', 'obvious', 'ident', 'sub', 'tree', 'left', 'righ']\n",
            "\n",
            "number of total strings : 178\n"
          ]
        }
      ],
      "source": [
        "stemmer = EnglishStemmer()\n",
        "\n",
        "_text8 = []\n",
        "\n",
        "for word in _text7:\n",
        "    _text8.append(stemmer.stem(word))\n",
        "\n",
        "print( _text8 )\n",
        "print('')\n",
        "print( 'number of total strings :', len(_text8) )"
      ]
    },
    {
      "cell_type": "markdown",
      "id": "82460a28",
      "metadata": {
        "id": "82460a28"
      },
      "source": [
        "## Part 3 : Porcess Data"
      ]
    },
    {
      "cell_type": "markdown",
      "id": "6b482995",
      "metadata": {
        "id": "6b482995"
      },
      "source": [
        "#### Step 1 : Save each page as a `key-value` pair in  a dictionary "
      ]
    },
    {
      "cell_type": "code",
      "execution_count": 30,
      "id": "bfa284c1",
      "metadata": {
        "id": "bfa284c1",
        "outputId": "37d3b6cc-8ef1-4c13-f5c0-f267f5daede6",
        "colab": {
          "base_uri": "https://localhost:8080/"
        }
      },
      "outputs": [
        {
          "output_type": "stream",
          "name": "stdout",
          "text": [
            "['featur', 'interact', 'xgboostkshitij', 'goyal', 'sebastijan', 'dumanc', 'hendrik', 'blockeelku', 'leuven', 'belgiumabstract', 'paper', 'investig', 'featur', 'interact', 'canb', 'identi', 'ﬁed', 'use', 'constraint', 'gradient', 'boost', 'tree', 'mod', 'el', 'xgboost', 'implement', 'result', 'show', 'tha', 'accurateidentiﬁc', 'constraint', 'help', 'improv', 'performanc', 'eof', 'baselin', 'xgboost', 'model', 'signi', 'ﬁcant', 'improv', 'themodel', 'structur', 'also', 'lead', 'better', 'interpretabilitykeyword', 'featur', 'interact', '·xgboost', '·constraint', '·interpretabil', 'ity1', 'introductionin', 'statist', 'two', 'variabl', 'x1andx2ar', 'said', 'interact', 'e', 'ﬀect', 'ofx1on', 'target', 'variabl', 'yis', 'constant', 'may', 'depend', 'valu', 'x2\"eﬀect\"', 'refer', 'increas', 'decreas', 'ythat', 'caus', 'changeinx1(whil', 'keep', 'x2constant)', 'interact', 'occur', 'linear', 'modelsof', 'formy=ax1+bx2an', 'unit', 'increas', 'x1bi', '1', 'alway', 'increas', 'ybya(assum', 'x2is', 'keptconstant)', 'hand', 'model', 'formy=ax1+bx2+cx1x2do', 'interact', 'rewrit', 'asy=', '(a+cx2)x1+bx2mak', 'clear', 'unit', 'increas', 'x1increas', 'ybya+cx2', 'henc', 'valuethat', 'depend', 'x2', 'statist', 'common', 'way', 'detect', 'interact', 'trainmodel', 'without', 'product', 'term', 'check', 'whether', 'ver', 'sion', 'aproduct', 'term', 'signi', 'ﬁcant', 'outperform', 'one', 'withoutin', 'context', 'decis', 'tree', 'x1andx2do', 'interact', 'followinghold', 'whenev', 'test', 'x2is', 'use', 'either', 'x2doe', 'occur', 'thebranch', 'must', 'test', 'exact', 'w', 'ay', 'branchesinde', 'would', 'test', 'x1<a', 'left', 'branch', 'contain', 'x2<b', 'andth', 'right', 'one', 'mean', 'target', 'depend', 'x2ifx1<a', 'butdo', 'depend', 'x1>a', 'e', 'ﬀect', 'ofx2onyclear', 'dependson', 'valu', 'x1', 'obvious', 'ident', 'sub', 'tree', 'left', 'righ']\n",
            "\n",
            "['2', 'k', 'goyal', 'et', 'albranch', 'relat', 'rare', 'typic', 'tree', 'either', 'n', 'ot', 'use', 'variabl', 'orus', 'way', 'allow', 'interact', 'variabl', 'ensembl', 'decis', 'tree', 'howev', 'make', 'much', 'easier', 'use', 'variabl', 'andyet', 'disallow', 'interact', 'two', 'variabl', 'x1andx2ar', 'use', 'di', 'ﬀerent', 'treesbut', 'never', 'tree', 'interact', 'x1can', 'ﬀect', 'thepredict', 'tree', 'occur', 'sinc', 'x2doe', 'occur', 'thesetre', 'valu', 'x2cannot', 'possibl', 'ﬀect', 'e', 'ﬀect', 'ofx1', 'vice', 'versaso', 'wherea', 'tree', 'bias', 'toward', 'interact', 'ensembl', 'f', 'tree', 'introducea', 'natur', 'way', 'includ', 'variabl', 'interact', '(b', 'inth', 'tree)', 'variabl', 'whose', 'e', 'ﬀect', 'interact', '(bi', 'indiﬀer', 'trees)th', 'popular', 'xgboost', 'system', 'exploit', 'fact', 'allow', 'use', 'r', 'partitionth', 'variabl', 'subset', 'variabl', 'among', 'may', 'interactionref', 'featur', 'interact', \"constraints'1\", 'given', 'split', 'featur', 'f', 'onlyth', 'featur', 'belong', 'subset', 'fwill', 'consid', 'next', 'split', 'inth', 'tree', 'exploit', 'constraint', 'system', 'reduc', 'search', 'space', 'thismay', 'lead', 'higher', 'qualiti', 'e', 'ﬃcient', 'model', 'less', 'nois', 'predictionsbett', 'general', 'high', 'interpret', 'abil', 'data', 'set', 'high', 'numberof', 'featur', 'identifi', 'constraint', 'help', 'make', 'model', 'moredirect', 'make', 'interpret', 'model', 'ccurat', 'aretwo', 'main', 'aspect', 'interpret', 'featur', 'import', 'nd', 'featur', 'interactionsin', 'gradient', 'boost', 'featur', 'import', 'measur', 'usi', 'ng', 'metric', 'like', 'gainweight', 'cover', 'calcul', 'relev', 'measur', '1', 'also', 'interpretabilityin', 'term', 'featur', 'interact', 'studi', '2', 'howev', \"aren'ta\", 'lot', 'interpret', 'method', 'direct', 'address', 'fea', 'ture', 'interact', 'ingradi', 'boost', 'tree', 'know', 'interact', 'constra', 'int', 'advanc', 'canﬁll', 'gap', 'identi', 'ﬁed', 'import', 'featur', 'use', 'exist', 'methodsthes', 'partit', 'use', 'interpret', 'interact', 'tree', 'ensemblesar', 'restrict', 'compli', 'constraintshowev', 'user', 'provid', 'constraint', 'inter', 'est', 'questioni', 'autom', 'creation', 'constraint', 'ﬁrst', 'analys', 'thedata', 'look', 'interact', 'variabl', 'providin', 'g', 'inform', 'toxgboost?', 'paper', 'provid', 'initi', 'result', 'uggest', 'positiveanswerxgboost', 'model', 'state', 'art', 'outperform', 'mani', 'machinelearn', 'methods2', 'signi', 'ﬁcant', 'improv', 'model', 'could', 'substan', 'tial', 'alreadi', 'lot', 'work', 'featur', 'select', 'method', 'useth', 'idea', 'featur', 'interact', '4', '6', '5', '10', 'none', 'speci', 'ﬁcalli', 'identifi', 'ing', 'constraint', 'work', 'aim', 'develop', 'method', 'identifi', 'theseconstraint', 'studi', 'e', 'ﬀect', 'model', 'perform', 'e', 'ﬃcienci', 'identi', 'fy', 'kind', 'featur', 'interact', 'use', 'oth', 'er', 'machin', 'learningalgorithm', 'speci', 'ﬁcalli', 'decis', 'tree', 'base', 'algorithm', 'constraint', 'be1https//xgboostreadthedocsio/en/latest/tutorials/', 'feature_interaction_constrainthtml2xgboost', '', '', 'ml', 'win', 'solut', '(incomplet', 'list)']\n",
            "\n",
            "['featur', 'interact', 'xgboost', '3incorpor', 'part', 'exist', 'ensembl', 'solut', '(xgbo', 'ost', 'lightgbm', 'etc)to', 'creat', 'autom', 'solut', 'better', 'interpretati', 'on', 'modelledfeatures2', 'approachfeatur', 'interact', 'main', 'studi', 'context', 'featur', 'selectionin', 'current', 'literatur', 'two', 'main', 'type', 'method', 'featur', 'se', 'lection', 'ﬁlter', 'method', 'wrapper', 'method', '7', 'filter', 'method', 'use', 'generalfeatur', 'dataset', 'like', 'correl', 'hand', 'wrapper', 'method', 'usesimpl', 'machin', 'learn', 'algorithm', 'identifi', 'import', 'featur', 'filter', 'meth', 'od', 'faster', 'slight', 'less', 'accur', 'compar', 'wrapper', 'method', 'whichar', 'comput', 'expens', '3in', 'work', 'identifi', 'featur', 'interact', 'explor', 'type', 'meth', 'od', 'start', 'ﬁlter', 'method', 'base', 'mutual', 'inform', 'realiz', 'thatthi', 'method', 'abl', 'captur', 'higher', 'level', 'interacti', 'decis', 'treesw', 'work', 'iter', 'select', 'approach', 'base', 'mutual', 'inform', 'spire', 'algorithm', 'describ', '4', 'underwhelm', 'result', 'notpres', 'method', 'paper', 'howev', 'present', 'wra', 'pper', 'algorithmwhich', 'use', 'linear', 'logist', 'regress', 'model', 'identifi', 'f', 'eatur', 'interaction21', 'wrapper', 'algorithmthi', 'algorithm', 'use', 'iter', 'approach', 'get', 'split', 'full', 'featureset', 'split', 'identi', 'ﬁed', 'method', 'mutual', 'exclusive–start', 'full', 'set', 'featur', 'f–fit', 'linear/logist', 'regress', 'model', 'featu', 'depend', 'uponth', 'natur', 'target', 'take', 'one', 'featur', 'time', 'select', 'featur', 'thatperform', 'best', 'add', 'select', 'featur', 'list', 'rem', 'ove', 'theful', 'featur', 'list–from', 'remain', 'featur', 'select', 'featur', 'mod', 'el', 'inter', 'action', 'perform', 'better', 'model', 'without', 'interact', 'modelwith', 'interact', 'best', 'compar', 'remain', 'featur', 'model', 'withinteract', 'possibl', 'pairwis', 'interact', 'add', 'selectedfeatur', 'list', 'remov', 'full', 'featur', 'list–if', 'new', 'featur', 'ad', 'select', 'featur', 'list', 'add', 'selectedfeatur', 'list', 'ﬁnal', 'interact', 'list', 'repeat', 'process', 'step', '2', 'onth', 'remain', 'origin', 'featur', 'list', '’t', 'featur', 'left']\n",
            "\n",
            "['4', 'k', 'goyal', 'et', 'alresult', 'interact', 'split', 'full', 'featur', 'listfeatur', '=', 'full', 'featur', 'setinteractionsplit', '=', 'subset', '=', 'len(features)', '!=', '0', 'dopotentialcandid', '=', 'forfiin', 'featur', 'domodel', '=', 'logistic/regress', 'model', 'subset/uniontextfimod', '=', 'logistic/regress', 'model', 'subset/uniontextfiwithinteractionsifperformance(model', 'i)>', 'perform', '(model)thenaddfito', 'potentialcandidatesendendiflen(potentialcandidates)', '>', '0', 'thenfb=', 'select', 'best', 'perform', 'featur', 'potentialcandidat', 'esaddfbto', 'subsetremov', 'fbfrom', 'featureselseadd', 'subset', 'interactionsplitssubset', '=', 'endendalgorithm', '1', 'wrapper', 'algorithm', 'featur', 'interaction3', 'experimentsus', 'approach', 'ﬁnding', 'split', 'creat', 'multipl', 'gradient', 'boost', 'ing', 'model', 'use', 'xgboost', 'number', 'data', 'set', 'cl', 'assiﬁc', 'andregress', 'problem', 'gradient', 'boost', 'work', 'combin', 'multipl', 'weak', 'learn', 'er', 'strong', 'learner', 'iter', 'fashion', 'everi', 'st', 'ep', 'residu', 'ismodel', 'use', 'decis', 'tree', 'improv', 'sign', 'iﬁcant831', 'modellingw', 'creat', 'follow', 'variat', 'gradient', 'boost', 'tr', 'ee', 'model', 'com', 'parison–', 'baselin', 'origin', 'xgboost', 'model', 'without', 'featur', 'interact', 'co', 'n', 'straints–', 'full', 'interact', 'model', 'xgboost', 'model', 'use', 'interact', 'splitsidentiﬁ', 'origin', 'target', 'tree', 'ensemble–', 'partial', 'interact', 'model', 'xgboost', 'model', 'select', 'numberof', 'tree', 'begin', 'ensembl', 'interact', 'constraint', 'foreach', 'residu', 'tree', 'new', 'interact', 'split', 'calcul', 'b', 'ase', 'individu']\n",
            "\n",
            "[]\n",
            "\n",
            "[]\n",
            "\n",
            "['featur', 'interact', 'xgboost', '7mation', 'get', 'signi', 'ﬁcant', 'improv', 'xgboost', 'work', 'havetri', 'develop', 'approach', 'wrapper', 'method', 'present', 'weget', 'signi', 'ﬁcant', 'improv', 'xgboost', 'model', 'number', 'di', 'ﬀerentdata', 'set', 'regress', 'problem', 'futur', 'aim', 'to–understand', 'drawback', 'method', 'improv', 'cla', 'ssiﬁcationproblems–modifi', 'approach', 'perform', 'least', 'good', 'baselin', 'e', 'analyzeth', 'eﬃcienc', 'constrain', 'models–studi', 'chang', 'interpret', 'model', 'compar', 'baseline–explor', 'approach', 'like', 'associ', 'rule', 'group', 'interac', 'ting', 'featuresreferences1', 'friedman', 'jerom', 'hasti', 'trevor', 'tibshirani', 'robe', 'rtthe', 'element', 'ofstatist', 'learn', 'element', 'statist', 'learn', '20012', 'lundberg', 'scott', 'erion', 'gabriel', 'g', 'lee', 'su', 'consist', 'individu', 'ize', 'featur', 'attribut', 'tree', 'ensembl', 'arxiv', 'preprint', 'arxiv18020388820013', 'sánchez', 'maroño', 'noelia', 'alonso', 'betanzo', 'amparo', 'tombilla', 'sanrománmaría', 'filter', 'method', 'featur', 'select', '–', 'compar', 'studi', 'tellig', 'data', 'engin', 'autom', 'learn', '20074', 'bennasar', 'moham', 'hick', 'yulia', 'setchi', 'rossitza', 'featur', 'selectionus', 'joint', 'mutual', 'inform', 'maximis', 'expert', 'system', 'applica', 'tion', '20155', 'kira', 'kenji', 'rendel', 'larri', 'featur', 'select', 'problem', 'traditionalmethod', 'new', 'algorithm', 'aaai', '19926', 'zhao', 'zheng', 'liu', 'huan', 'search', 'interact', 'featur', 'subsetselect', 'intellig', 'data', 'analysi', '20097', 'guyon', 'isabell', 'elisse', 'ﬀ', 'andré', 'introduct', 'variabl', 'featureselect', 'journal', 'machin', 'learn', 'research', '20038', 'friedman', 'jerom', 'h', 'greedi', 'function', 'approxim', 'gradient', 'boostingmachin', 'annal', 'statist', '20019', 'chen', 'tianqi', 'guestrin', 'carlo', 'xgboost', 'scalabl', 'tree', 'boost', 'system', 'proceed', '22nd', 'acm', 'sigkdd', 'intern', 'conferenc', 'e', 'knowledg', 'discoveryand', 'data', 'mine', '201610', 'zeng', 'zilin', 'zhang', 'hongjun', 'zhang', 'rui', 'yin', 'che', 'ngxiang', 'novelfeatur', 'select', 'method', 'consid', 'featur', 'interact', 'pattern', 'recogni', 'tion', '2015']\n",
            "\n"
          ]
        }
      ],
      "source": [
        "import PyPDF2\n",
        "import re\n",
        "import nltk\n",
        "\n",
        "import json\n",
        "\n",
        "from nltk.stem.snowball import EnglishStemmer\n",
        "# nltk.download('wordnet')\n",
        "# nltk.download('omw-1.4')\n",
        "from nltk.stem import PorterStemmer # stemmer lib\n",
        "\n",
        "reader = PyPDF2.PdfFileReader(open('/content/data_testscript_01.pdf','rb')) # pdf file\n",
        "\n",
        "\n",
        "def analyse(page_number): # function\n",
        "    page = reader.pages[page_number] # current page\n",
        "#     print(page)\n",
        "    text = page.extract_text() # extract text\n",
        "#     print(text)\n",
        "    _text1 = text.split(\" \") # split string\n",
        "#     print( _text1)\n",
        "\n",
        "    _text2a = []\n",
        "    for text in _text1:\n",
        "        _text2a.append(str(text).replace('\\n','').strip()) # replace and strip\n",
        "#     print(_text2a)\n",
        "    _text2b = []\n",
        "\n",
        "    for text in _text2a:\n",
        "        if len(text) != 0:\n",
        "            _text2b.append(text) # storing text\n",
        "#     print(_text2b)\n",
        "    \n",
        "    _text3 = []\n",
        "\n",
        "    for text in _text2b:\n",
        "        _text3.append(re.sub('[:,;.\\[\\]]', '', text)) # storing text\n",
        "\n",
        "#     print(_text3)\n",
        "#     print('')\n",
        "#     print( 'number of total strings :', len(_text3) )\n",
        "    \n",
        "    _text4a = []\n",
        "\n",
        "    for text in _text3:\n",
        "        _text4a.append(re.sub('\\([a-z]+\\)','',text)) # storing text\n",
        "\n",
        "#     print(_text4a)\n",
        "#     print('')\n",
        "#     print( 'number of total strings :', len(_text4a) )\n",
        "    \n",
        "    _text4b = []\n",
        "\n",
        "    for text in _text4a:\n",
        "        if len(text) != 0:\n",
        "            _text4b.append(text) # storing text\n",
        "#     print(_text4b)\n",
        "#     print('')\n",
        "#     print( 'number of total strings :', len(_text4b) )\n",
        "    \n",
        "    _text5 = []\n",
        "    for text in _text4b:\n",
        "        _text5.append(str(text).lower()) # storing text\n",
        "#     print(_text5)\n",
        "#     print('')\n",
        "#     print( 'number of total strings :', len(_text5) )\n",
        "    \n",
        "    _text6 = []\n",
        "\n",
        "    for elem in _text5:\n",
        "        e = elem.split('-')\n",
        "\n",
        "        if len(e) == 1:\n",
        "            _text6.append(e[0]) # storing text\n",
        "        elif len(e) > 1:\n",
        "            _text6.extend(e) # extend list\n",
        "        else:\n",
        "            pass\n",
        "#     print(_text6)\n",
        "#     print('')\n",
        "#     print( 'number of total strings :', len(_text6) )\n",
        "    \n",
        "    \n",
        "    stopwords = nltk.corpus.stopwords.words('english') # stopwords\n",
        "    \n",
        "    _text7 = [ word for word in _text6 if not word.lower() in stopwords]\n",
        "#     print( _text7 )\n",
        "#     print('')\n",
        "#     print( 'number of total strings :', len(_text7) )\n",
        "    \n",
        "    stemmer = EnglishStemmer()\n",
        "\n",
        "    _text8 = []\n",
        "\n",
        "    for word in _text7:\n",
        "        _text8.append(stemmer.stem(word))\n",
        "\n",
        "#     print( _text8 )\n",
        "#     print('')\n",
        "#     print( 'number of total strings :', len(_text8) )\n",
        "    \n",
        "    return _text8 # return final text\n",
        "\n",
        " \n",
        "\n",
        "#####################################################################\n",
        "# export data\n",
        "\n",
        "number_of_pages = reader.getNumPages() # total page\n",
        "data = [] # data\n",
        "    \n",
        "## for each page:\n",
        "for i in range(0, number_of_pages):\n",
        "    data.append(analyse(i))\n",
        "#     print(\"-----------------------------\",i+1,\"--------------\")\n",
        "\n",
        "# data\n",
        "\n",
        "## store data in dictionary\n",
        "dict = {}\n",
        "for i in range(len(data)):\n",
        "    for word in data:\n",
        "        dict[f'Page {i+1}'] = data[i]\n",
        "\n",
        "        \n",
        "for keys in dict.keys():\n",
        "    print(dict[keys])\n",
        "    print()"
      ]
    },
    {
      "cell_type": "code",
      "source": [],
      "metadata": {
        "id": "SLyM4LYGMSoK"
      },
      "id": "SLyM4LYGMSoK",
      "execution_count": null,
      "outputs": []
    }
  ],
  "metadata": {
    "kernelspec": {
      "display_name": "Python 3",
      "language": "python",
      "name": "python3"
    },
    "language_info": {
      "codemirror_mode": {
        "name": "ipython",
        "version": 3
      },
      "file_extension": ".py",
      "mimetype": "text/x-python",
      "name": "python",
      "nbconvert_exporter": "python",
      "pygments_lexer": "ipython3",
      "version": "3.9.13"
    },
    "colab": {
      "provenance": [],
      "include_colab_link": true
    }
  },
  "nbformat": 4,
  "nbformat_minor": 5
}