{
  "cells": [
    {
      "cell_type": "markdown",
      "metadata": {
        "id": "view-in-github",
        "colab_type": "text"
      },
      "source": [
        "<a href=\"https://colab.research.google.com/github/mehadisaki/SomikoronAI_ans/blob/main/Result_of_nlp_testscript_01.ipynb\" target=\"_parent\"><img src=\"https://colab.research.google.com/assets/colab-badge.svg\" alt=\"Open In Colab\"/></a>"
      ]
    },
    {
      "cell_type": "markdown",
      "id": "be0e8eb5",
      "metadata": {
        "id": "be0e8eb5"
      },
      "source": [
        "# Somikorno AI\n",
        "\n",
        "## Quick Test : NLP Problem 1\n",
        "\n",
        "#### Extract Native PDF"
      ]
    },
    {
      "cell_type": "markdown",
      "id": "6356577d",
      "metadata": {
        "id": "6356577d"
      },
      "source": [
        "#### Goal \n",
        "\n",
        "To extract all meaningful english words from a native pdf file. This is a classic NLP problem.\n",
        "\n",
        "\n",
        "#### Some Key Points to Keep in  Mind\n",
        "\n",
        "1. One of the most critical programming skill that is need in NLP is to know how to use regular expression. Use regular expression quick help : https://www.w3schools.com/python/python_regex.asp\n",
        "\n",
        "2. Regular expression is needed for cleaning textual data\n",
        "\n",
        "3. You may or may not use `stemmer` to extract meaningful words/strings\n",
        "\n",
        "\n",
        "To successfully run this notebook you would need to have the followiing packages installed:\n",
        "    \n",
        "1. numpy\n",
        "\n",
        "2. pandas\n",
        "\n",
        "3. pypdf2"
      ]
    },
    {
      "cell_type": "markdown",
      "id": "b9a8a0c4",
      "metadata": {
        "id": "b9a8a0c4"
      },
      "source": [
        "### Load Required Packages"
      ]
    },
    {
      "cell_type": "code",
      "execution_count": 1,
      "id": "49bf9d2d",
      "metadata": {
        "colab": {
          "base_uri": "https://localhost:8080/"
        },
        "id": "49bf9d2d",
        "outputId": "c7dd9366-0258-40cb-ab70-1d6f41e218a9"
      },
      "outputs": [
        {
          "output_type": "stream",
          "name": "stdout",
          "text": [
            "Looking in indexes: https://pypi.org/simple, https://us-python.pkg.dev/colab-wheels/public/simple/\n",
            "Collecting pypdf2\n",
            "  Downloading pypdf2-2.11.2-py3-none-any.whl (220 kB)\n",
            "\u001b[K     |████████████████████████████████| 220 kB 12.2 MB/s \n",
            "\u001b[?25hRequirement already satisfied: typing_extensions>=3.10.0.0 in /usr/local/lib/python3.8/dist-packages (from pypdf2) (4.4.0)\n",
            "Installing collected packages: pypdf2\n",
            "Successfully installed pypdf2-2.11.2\n"
          ]
        }
      ],
      "source": [
        "# !pip3 install pypdf2\n",
        "!pip install pypdf2"
      ]
    },
    {
      "cell_type": "code",
      "execution_count": 2,
      "id": "9c4f1c32",
      "metadata": {
        "id": "9c4f1c32"
      },
      "outputs": [],
      "source": [
        "import numpy as np\n",
        "import pandas as pd\n",
        "import os\n",
        "import re\n",
        "import json\n"
      ]
    },
    {
      "cell_type": "code",
      "execution_count": null,
      "id": "urtixXgQbl9T",
      "metadata": {
        "id": "urtixXgQbl9T"
      },
      "outputs": [],
      "source": []
    },
    {
      "cell_type": "markdown",
      "id": "8Kd8D-7wblnp",
      "metadata": {
        "id": "8Kd8D-7wblnp"
      },
      "source": []
    },
    {
      "cell_type": "markdown",
      "id": "97754fb8",
      "metadata": {
        "id": "97754fb8"
      },
      "source": [
        "-------------------------------------------------------------------------------------------------"
      ]
    },
    {
      "cell_type": "markdown",
      "id": "4c878dc6",
      "metadata": {
        "id": "4c878dc6"
      },
      "source": [
        "### Part 1 :  Read Data\n",
        "\n",
        "Read the `data_testscript_01.pdf` file  from your  working directory"
      ]
    },
    {
      "cell_type": "code",
      "execution_count": null,
      "id": "0ec3c959",
      "metadata": {
        "id": "0ec3c959"
      },
      "outputs": [],
      "source": [
        "from PyPDF2 import PdfReader\n",
        "reader = PdfReader(\"data_testscript_01.pdf\")"
      ]
    },
    {
      "cell_type": "markdown",
      "id": "de5869b3",
      "metadata": {
        "id": "de5869b3"
      },
      "source": [
        "#### Find the number of pages"
      ]
    },
    {
      "cell_type": "code",
      "execution_count": null,
      "id": "01f0d28d",
      "metadata": {
        "colab": {
          "base_uri": "https://localhost:8080/"
        },
        "id": "01f0d28d",
        "outputId": "cfc3d198-3a3b-4bcf-dffe-85b276020f5a"
      },
      "outputs": [
        {
          "name": "stdout",
          "output_type": "stream",
          "text": [
            "7\n"
          ]
        }
      ],
      "source": [
        "number_of_pages = len(reader.pages)\n",
        "print(number_of_pages)"
      ]
    },
    {
      "cell_type": "markdown",
      "id": "8cba63de",
      "metadata": {
        "id": "8cba63de"
      },
      "source": [
        "#### Get the first page : indexed by 0"
      ]
    },
    {
      "cell_type": "code",
      "execution_count": null,
      "id": "1927a2c8",
      "metadata": {
        "colab": {
          "base_uri": "https://localhost:8080/"
        },
        "id": "1927a2c8",
        "outputId": "f4fabb36-f3bc-41a7-cc9c-a42c7c43849c"
      },
      "outputs": [
        {
          "name": "stdout",
          "output_type": "stream",
          "text": [
            "{'/Type': '/Page', '/MediaBox': [0, 0, 595, 842], '/Rotate': 0, '/Parent': IndirectObject(3, 0, 5414553440), '/Resources': {'/ProcSet': ['/PDF', '/Text'], '/ExtGState': IndirectObject(30, 0, 5414553440), '/Font': IndirectObject(31, 0, 5414553440)}, '/Contents': IndirectObject(5, 0, 5414553440)}\n"
          ]
        }
      ],
      "source": [
        "page = reader.pages[0]\n",
        "print(page)"
      ]
    },
    {
      "cell_type": "markdown",
      "id": "f62293b4",
      "metadata": {
        "id": "f62293b4"
      },
      "source": [
        "#### Get text from the first page "
      ]
    },
    {
      "cell_type": "code",
      "execution_count": null,
      "id": "02c00f43",
      "metadata": {
        "colab": {
          "base_uri": "https://localhost:8080/"
        },
        "id": "02c00f43",
        "outputId": "f96c3b21-311a-4b92-a486-cf94dcdbd103"
      },
      "outputs": [
        {
          "name": "stdout",
          "output_type": "stream",
          "text": [
            "Feature Interactions in XGBoost\n",
            "Kshitij Goyal, Sebastijan Dumancic, Hendrik Blockeel\n",
            "KU Leuven, Belgium\n",
            "Abstract. In this paper, We investigate how feature interactions can\n",
            "be identi ﬁed to be used as constraints in gradient boosting tree mod-\n",
            "els through XGBoost’s implementation. Our results show tha t accurate\n",
            "identiﬁcation of these constraints can help improve the performanc e\n",
            "of baseline XGBoost model signi ﬁcantly. Further, improvement in the\n",
            "model structure can also lead to better interpretability.\n",
            "Keywords: Feature Interaction ·XGBoost ·Constraints ·Interpretabil-\n",
            "ity\n",
            "1 Introduction\n",
            "In statistics, two variables X1andX2are said to interact when the e ﬀect of\n",
            "X1on a target variable Yis not constant, but may depend on the value of X2.\n",
            "\"Eﬀect\" here refers to the increase or decrease of Ythat is caused by a change\n",
            "inX1(while keeping X2constant). Interaction does not occur in linear models\n",
            "of the form\n",
            "Y=aX1+bX2\n",
            "an unit increase of X1by 1 will always increase Ybya(assuming X2is kept\n",
            "constant). On the other hand, a model of the form\n",
            "Y=aX1+bX2+cX1X2\n",
            "does have interaction: rewriting it as\n",
            "Y= (a+cX2)X1+bX2\n",
            "makes clear that a unit increase of X1increases Ybya+cX2, hence, by a value\n",
            "that depends on X2. In statistics, a common way to detect interaction is to train\n",
            "models with and without product terms, and check whether the ver sion with a\n",
            "product term signi ﬁcantly outperforms the one without.\n",
            "In the context of decision trees, X1andX2do not interact if the following\n",
            "holds: whenever a test of X2is used, either X2does not occur in any of the\n",
            "branches, or if it does, it must be tested in exactly the same w ay in all branches.\n",
            "Indeed, if we would have a test X1<a where the left branch contains X2<b and\n",
            "the right one does not, this means that the target depends on X2ifX1<a, but\n",
            "does not depend on it if X1>a; that is, the e ﬀect ofX2onYclearly depends\n",
            "on the value of X1. Obviously, having identical sub-trees in the left and righ t\n"
          ]
        }
      ],
      "source": [
        "text = page.extract_text()\n",
        "print(text)"
      ]
    },
    {
      "cell_type": "markdown",
      "id": "0f59bcb0",
      "metadata": {
        "id": "0f59bcb0"
      },
      "source": [
        "-------------------------------------------------------------------------------------------------"
      ]
    },
    {
      "cell_type": "markdown",
      "id": "cb687633",
      "metadata": {
        "id": "cb687633"
      },
      "source": [
        "Everything that has been written below has been done for Page 1 only "
      ]
    },
    {
      "cell_type": "markdown",
      "id": "6ea80c88",
      "metadata": {
        "id": "6ea80c88"
      },
      "source": [
        "-------------------------------------------------------------------------------------------------"
      ]
    },
    {
      "cell_type": "markdown",
      "id": "09ebf426",
      "metadata": {
        "id": "09ebf426"
      },
      "source": [
        "### Part 2: Clean Data\n",
        "\n",
        "#### Step 1: Split the text by white-space"
      ]
    },
    {
      "cell_type": "code",
      "execution_count": null,
      "id": "9834b84e",
      "metadata": {
        "colab": {
          "base_uri": "https://localhost:8080/"
        },
        "id": "9834b84e",
        "outputId": "6cc99542-e5cf-44dd-9d32-bd590fe0c46b"
      },
      "outputs": [
        {
          "name": "stdout",
          "output_type": "stream",
          "text": [
            "['Feature', 'Interactions', 'in', 'XGBoost\\nKshitij', 'Goyal,', 'Sebastijan', 'Dumancic,', 'Hendrik', 'Blockeel\\nKU', 'Leuven,', 'Belgium\\nAbstract.', 'In', 'this', 'paper,', 'We', 'investigate', 'how', 'feature', 'interactions', 'can\\nbe', 'identi', 'ﬁed', 'to', 'be', 'used', 'as', 'constraints', 'in', 'gradient', 'boosting', 'tree', 'mod-\\nels', 'through', 'XGBoost’s', 'implementation.', 'Our', 'results', 'show', 'tha', 't', 'accurate\\nidentiﬁcation', 'of', 'these', 'constraints', 'can', 'help', 'improve', 'the', 'performanc', 'e\\nof', 'baseline', 'XGBoost', 'model', 'signi', 'ﬁcantly.', 'Further,', 'improvement', 'in', 'the\\nmodel', 'structure', 'can', 'also', 'lead', 'to', 'better', 'interpretability.\\nKeywords:', 'Feature', 'Interaction', '·XGBoost', '·Constraints', '·Interpretabil-\\nity\\n1', 'Introduction\\nIn', 'statistics,', 'two', 'variables', 'X1andX2are', 'said', 'to', 'interact', 'when', 'the', 'e', 'ﬀect', 'of\\nX1on', 'a', 'target', 'variable', 'Yis', 'not', 'constant,', 'but', 'may', 'depend', 'on', 'the', 'value', 'of', 'X2.\\n\"Eﬀect\"', 'here', 'refers', 'to', 'the', 'increase', 'or', 'decrease', 'of', 'Ythat', 'is', 'caused', 'by', 'a', 'change\\ninX1(while', 'keeping', 'X2constant).', 'Interaction', 'does', 'not', 'occur', 'in', 'linear', 'models\\nof', 'the', 'form\\nY=aX1+bX2\\nan', 'unit', 'increase', 'of', 'X1by', '1', 'will', 'always', 'increase', 'Ybya(assuming', 'X2is', 'kept\\nconstant).', 'On', 'the', 'other', 'hand,', 'a', 'model', 'of', 'the', 'form\\nY=aX1+bX2+cX1X2\\ndoes', 'have', 'interaction:', 'rewriting', 'it', 'as\\nY=', '(a+cX2)X1+bX2\\nmakes', 'clear', 'that', 'a', 'unit', 'increase', 'of', 'X1increases', 'Ybya+cX2,', 'hence,', 'by', 'a', 'value\\nthat', 'depends', 'on', 'X2.', 'In', 'statistics,', 'a', 'common', 'way', 'to', 'detect', 'interaction', 'is', 'to', 'train\\nmodels', 'with', 'and', 'without', 'product', 'terms,', 'and', 'check', 'whether', 'the', 'ver', 'sion', 'with', 'a\\nproduct', 'term', 'signi', 'ﬁcantly', 'outperforms', 'the', 'one', 'without.\\nIn', 'the', 'context', 'of', 'decision', 'trees,', 'X1andX2do', 'not', 'interact', 'if', 'the', 'following\\nholds:', 'whenever', 'a', 'test', 'of', 'X2is', 'used,', 'either', 'X2does', 'not', 'occur', 'in', 'any', 'of', 'the\\nbranches,', 'or', 'if', 'it', 'does,', 'it', 'must', 'be', 'tested', 'in', 'exactly', 'the', 'same', 'w', 'ay', 'in', 'all', 'branches.\\nIndeed,', 'if', 'we', 'would', 'have', 'a', 'test', 'X1<a', 'where', 'the', 'left', 'branch', 'contains', 'X2<b', 'and\\nthe', 'right', 'one', 'does', 'not,', 'this', 'means', 'that', 'the', 'target', 'depends', 'on', 'X2ifX1<a,', 'but\\ndoes', 'not', 'depend', 'on', 'it', 'if', 'X1>a;', 'that', 'is,', 'the', 'e', 'ﬀect', 'ofX2onYclearly', 'depends\\non', 'the', 'value', 'of', 'X1.', 'Obviously,', 'having', 'identical', 'sub-trees', 'in', 'the', 'left', 'and', 'righ', 't']\n"
          ]
        }
      ],
      "source": [
        "_text1 = text.split(\" \")\n",
        "print( _text1)"
      ]
    },
    {
      "cell_type": "markdown",
      "id": "ab5343dc",
      "metadata": {
        "id": "ab5343dc"
      },
      "source": [
        "#### Step 2 : Remove newline brake  and white space"
      ]
    },
    {
      "cell_type": "markdown",
      "id": "3f750808",
      "metadata": {
        "id": "3f750808"
      },
      "source": [
        "Check & Learn : Use of replace() method"
      ]
    },
    {
      "cell_type": "code",
      "execution_count": null,
      "id": "23db3f16",
      "metadata": {
        "colab": {
          "base_uri": "https://localhost:8080/",
          "height": 36
        },
        "id": "23db3f16",
        "outputId": "e2ce0d53-61f6-4f25-f7d5-8607a82665be"
      },
      "outputs": [
        {
          "data": {
            "text/plain": [
              "'Bangladesh\\\\n'"
            ]
          },
          "execution_count": 214,
          "metadata": {},
          "output_type": "execute_result"
        }
      ],
      "source": [
        "'\\nBangladesh'.replace('\\n','')\n",
        "'\\nBangladesh\\n'.replace('\\n','')\n",
        "'\\n\\nBangladesh\\n'.replace('\\n','')\n",
        "'\\n\\nBangladesh\\\\n'.replace('\\n','')\n"
      ]
    },
    {
      "cell_type": "markdown",
      "id": "1f52c219",
      "metadata": {
        "id": "1f52c219"
      },
      "source": [
        "Check and Learn : Use of strip() method"
      ]
    },
    {
      "cell_type": "code",
      "execution_count": null,
      "id": "baf384c5",
      "metadata": {
        "colab": {
          "base_uri": "https://localhost:8080/",
          "height": 36
        },
        "id": "baf384c5",
        "outputId": "e3d957a6-ff7f-40bc-d3ae-4bff75e29bd7"
      },
      "outputs": [
        {
          "data": {
            "text/plain": [
              "'Bangaldesh Data Science'"
            ]
          },
          "execution_count": 215,
          "metadata": {},
          "output_type": "execute_result"
        }
      ],
      "source": [
        "' Bangaldesh Data Science '.strip()"
      ]
    },
    {
      "cell_type": "markdown",
      "id": "8031e909",
      "metadata": {
        "id": "8031e909"
      },
      "source": [
        "Check & Learn : Combine the two methods"
      ]
    },
    {
      "cell_type": "code",
      "execution_count": null,
      "id": "367dac96",
      "metadata": {
        "colab": {
          "base_uri": "https://localhost:8080/",
          "height": 36
        },
        "id": "367dac96",
        "outputId": "24030a9b-5350-42fe-e7c8-2ad86212c209"
      },
      "outputs": [
        {
          "data": {
            "text/plain": [
              "'Bangaldesh Data Science'"
            ]
          },
          "execution_count": 216,
          "metadata": {},
          "output_type": "execute_result"
        }
      ],
      "source": [
        "' \\nBangaldesh \\nData Science\\n '.replace('\\n','').strip()"
      ]
    },
    {
      "cell_type": "markdown",
      "id": "1176ffdd",
      "metadata": {
        "id": "1176ffdd"
      },
      "source": []
    },
    {
      "cell_type": "markdown",
      "id": "248ea248",
      "metadata": {
        "id": "248ea248"
      },
      "source": [
        "Step 2a : Apply your newly acquired knowledge to the original problem  "
      ]
    },
    {
      "cell_type": "code",
      "execution_count": null,
      "id": "8d8a7d03",
      "metadata": {
        "id": "8d8a7d03",
        "outputId": "305412cc-9067-4db4-a9ca-4555d290071b"
      },
      "outputs": [
        {
          "name": "stdout",
          "output_type": "stream",
          "text": [
            "['Feature', 'Interactions', 'in', 'XGBoost Kshitij', 'Goyal,', 'Sebastijan', 'Dumancic,', 'Hendrik', 'Blockeel KU', 'Leuven,', 'Belgium Abstract.', 'In', 'this', 'paper,', 'We', 'investigate', 'how', 'feature', 'interactions', 'can be', 'identi', 'ﬁed', 'to', 'be', 'used', 'as', 'constraints', 'in', 'gradient', 'boosting', 'tree', 'mod- els', 'through', 'XGBoost’s', 'implementation.', 'Our', 'results', 'show', 'tha', 't', 'accurate identiﬁcation', 'of', 'these', 'constraints', 'can', 'help', 'improve', 'the', 'performanc', 'e of', 'baseline', 'XGBoost', 'model', 'signi', 'ﬁcantly.', 'Further,', 'improvement', 'in', 'the model', 'structure', 'can', 'also', 'lead', 'to', 'better', 'interpretability. Keywords:', 'Feature', 'Interaction', '·XGBoost', '·Constraints', '·Interpretabil- ity 1', 'Introduction In', 'statistics,', 'two', 'variables', 'X1andX2are', 'said', 'to', 'interact', 'when', 'the', 'e', 'ﬀect', 'of X1on', 'a', 'target', 'variable', 'Yis', 'not', 'constant,', 'but', 'may', 'depend', 'on', 'the', 'value', 'of', 'X2. \"Eﬀect\"', 'here', 'refers', 'to', 'the', 'increase', 'or', 'decrease', 'of', 'Ythat', 'is', 'caused', 'by', 'a', 'change inX1(while', 'keeping', 'X2constant).', 'Interaction', 'does', 'not', 'occur', 'in', 'linear', 'models of', 'the', 'form Y=aX1+bX2 an', 'unit', 'increase', 'of', 'X1by', '1', 'will', 'always', 'increase', 'Ybya(assuming', 'X2is', 'kept constant).', 'On', 'the', 'other', 'hand,', 'a', 'model', 'of', 'the', 'form Y=aX1+bX2+cX1X2 does', 'have', 'interaction:', 'rewriting', 'it', 'as Y=', '(a+cX2)X1+bX2 makes', 'clear', 'that', 'a', 'unit', 'increase', 'of', 'X1increases', 'Ybya+cX2,', 'hence,', 'by', 'a', 'value that', 'depends', 'on', 'X2.', 'In', 'statistics,', 'a', 'common', 'way', 'to', 'detect', 'interaction', 'is', 'to', 'train models', 'with', 'and', 'without', 'product', 'terms,', 'and', 'check', 'whether', 'the', 'ver', 'sion', 'with', 'a product', 'term', 'signi', 'ﬁcantly', 'outperforms', 'the', 'one', 'without. In', 'the', 'context', 'of', 'decision', 'trees,', 'X1andX2do', 'not', 'interact', 'if', 'the', 'following holds:', 'whenever', 'a', 'test', 'of', 'X2is', 'used,', 'either', 'X2does', 'not', 'occur', 'in', 'any', 'of', 'the branches,', 'or', 'if', 'it', 'does,', 'it', 'must', 'be', 'tested', 'in', 'exactly', 'the', 'same', 'w', 'ay', 'in', 'all', 'branches. Indeed,', 'if', 'we', 'would', 'have', 'a', 'test', 'X1<a', 'where', 'the', 'left', 'branch', 'contains', 'X2<b', 'and the', 'right', 'one', 'does', 'not,', 'this', 'means', 'that', 'the', 'target', 'depends', 'on', 'X2ifX1<a,', 'but does', 'not', 'depend', 'on', 'it', 'if', 'X1>a;', 'that', 'is,', 'the', 'e', 'ﬀect', 'ofX2onYclearly', 'depends on', 'the', 'value', 'of', 'X1.', 'Obviously,', 'having', 'identical', 'sub-trees', 'in', 'the', 'left', 'and', 'righ', 't']\n"
          ]
        },
        {
          "data": {
            "text/plain": [
              "291"
            ]
          },
          "execution_count": 217,
          "metadata": {},
          "output_type": "execute_result"
        }
      ],
      "source": [
        "_text2a = []\n",
        "for i in _text1:\n",
        "  _text2a.append(i.replace('\\n',' ').strip())\n",
        "  \n",
        "\n",
        "print(_text2a)\n",
        "len(_text2a)"
      ]
    },
    {
      "cell_type": "code",
      "execution_count": null,
      "id": "6c78a830",
      "metadata": {
        "id": "6c78a830",
        "outputId": "a0646384-d16a-4282-dddf-030f7e427fec"
      },
      "outputs": [
        {
          "name": "stdout",
          "output_type": "stream",
          "text": [
            "['Feature', 'Interactions', 'in', 'XGBoost Kshitij', 'Goyal,', 'Sebastijan', 'Dumancic,', 'Hendrik', 'Blockeel KU', 'Leuven,', 'Belgium Abstract.', 'In', 'this', 'paper,', 'We', 'investigate', 'how', 'feature', 'interactions', 'can be', 'identi', 'ﬁed', 'to', 'be', 'used', 'as', 'constraints', 'in', 'gradient', 'boosting', 'tree', 'mod- els', 'through', 'XGBoost’s', 'implementation.', 'Our', 'results', 'show', 'tha', 't', 'accurate identiﬁcation', 'of', 'these', 'constraints', 'can', 'help', 'improve', 'the', 'performanc', 'e of', 'baseline', 'XGBoost', 'model', 'signi', 'ﬁcantly.', 'Further,', 'improvement', 'in', 'the model', 'structure', 'can', 'also', 'lead', 'to', 'better', 'interpretability. Keywords:', 'Feature', 'Interaction', '·XGBoost', '·Constraints', '·Interpretabil- ity 1', 'Introduction In', 'statistics,', 'two', 'variables', 'X1andX2are', 'said', 'to', 'interact', 'when', 'the', 'e', 'ﬀect', 'of X1on', 'a', 'target', 'variable', 'Yis', 'not', 'constant,', 'but', 'may', 'depend', 'on', 'the', 'value', 'of', 'X2. \"Eﬀect\"', 'here', 'refers', 'to', 'the', 'increase', 'or', 'decrease', 'of', 'Ythat', 'is', 'caused', 'by', 'a', 'change inX1(while', 'keeping', 'X2constant).', 'Interaction', 'does', 'not', 'occur', 'in', 'linear', 'models of', 'the', 'form Y=aX1+bX2 an', 'unit', 'increase', 'of', 'X1by', '1', 'will', 'always', 'increase', 'Ybya(assuming', 'X2is', 'kept constant).', 'On', 'the', 'other', 'hand,', 'a', 'model', 'of', 'the', 'form Y=aX1+bX2+cX1X2 does', 'have', 'interaction:', 'rewriting', 'it', 'as Y=', '(a+cX2)X1+bX2 makes', 'clear', 'that', 'a', 'unit', 'increase', 'of', 'X1increases', 'Ybya+cX2,', 'hence,', 'by', 'a', 'value that', 'depends', 'on', 'X2.', 'In', 'statistics,', 'a', 'common', 'way', 'to', 'detect', 'interaction', 'is', 'to', 'train models', 'with', 'and', 'without', 'product', 'terms,', 'and', 'check', 'whether', 'the', 'ver', 'sion', 'with', 'a product', 'term', 'signi', 'ﬁcantly', 'outperforms', 'the', 'one', 'without. In', 'the', 'context', 'of', 'decision', 'trees,', 'X1andX2do', 'not', 'interact', 'if', 'the', 'following holds:', 'whenever', 'a', 'test', 'of', 'X2is', 'used,', 'either', 'X2does', 'not', 'occur', 'in', 'any', 'of', 'the branches,', 'or', 'if', 'it', 'does,', 'it', 'must', 'be', 'tested', 'in', 'exactly', 'the', 'same', 'w', 'ay', 'in', 'all', 'branches. Indeed,', 'if', 'we', 'would', 'have', 'a', 'test', 'X1<a', 'where', 'the', 'left', 'branch', 'contains', 'X2<b', 'and the', 'right', 'one', 'does', 'not,', 'this', 'means', 'that', 'the', 'target', 'depends', 'on', 'X2ifX1<a,', 'but does', 'not', 'depend', 'on', 'it', 'if', 'X1>a;', 'that', 'is,', 'the', 'e', 'ﬀect', 'ofX2onYclearly', 'depends on', 'the', 'value', 'of', 'X1.', 'Obviously,', 'having', 'identical', 'sub-trees', 'in', 'the', 'left', 'and', 'righ', 't']\n"
          ]
        },
        {
          "data": {
            "text/plain": [
              "291"
            ]
          },
          "execution_count": 162,
          "metadata": {},
          "output_type": "execute_result"
        }
      ],
      "source": [
        "#_text2b =[] \n",
        "\n",
        "for i in _text2a :\n",
        "        if len(i)== 0:\n",
        "                 _text2a.remove(i)\n",
        "                \n",
        "        _text2b= _text2a.copy()\n",
        "\n",
        "\n",
        "print(_text2b)\n",
        "len(_text2b)"
      ]
    },
    {
      "cell_type": "markdown",
      "id": "ad093146",
      "metadata": {
        "id": "ad093146"
      },
      "source": []
    },
    {
      "cell_type": "markdown",
      "id": "9847a29b",
      "metadata": {
        "id": "9847a29b"
      },
      "source": [
        "#### Step 3 : Remove special characters, such as,  full  stop, comma, color,  semi-colon, etc. "
      ]
    },
    {
      "cell_type": "markdown",
      "id": "b15226e4",
      "metadata": {
        "id": "b15226e4"
      },
      "source": [
        "We need a special package called `re`, aka, `regular expression`"
      ]
    },
    {
      "cell_type": "code",
      "execution_count": null,
      "id": "455688d1",
      "metadata": {
        "id": "455688d1"
      },
      "outputs": [],
      "source": [
        "import re"
      ]
    },
    {
      "cell_type": "markdown",
      "id": "9242540b",
      "metadata": {
        "id": "9242540b"
      },
      "source": [
        "Check and Learn : use 'sub' function to remove special characters"
      ]
    },
    {
      "cell_type": "code",
      "execution_count": null,
      "id": "cf127acd",
      "metadata": {
        "id": "cf127acd",
        "outputId": "7e944776-baf6-4866-c7e6-da03e61a065b"
      },
      "outputs": [
        {
          "data": {
            "text/plain": [
              "'Bias Term'"
            ]
          },
          "execution_count": 219,
          "metadata": {},
          "output_type": "execute_result"
        }
      ],
      "source": [
        "re.sub('[:;.\\[\\]]','','.[Bias Term];')"
      ]
    },
    {
      "cell_type": "code",
      "execution_count": null,
      "id": "b5d95baa",
      "metadata": {
        "id": "b5d95baa",
        "outputId": "f0cb7c58-8c03-4256-de1c-b5977474da13"
      },
      "outputs": [
        {
          "name": "stdout",
          "output_type": "stream",
          "text": [
            "['Feature', 'Interactions', 'in', 'XGBoost Kshitij', 'Goyal,', 'Sebastijan', 'Dumancic,', 'Hendrik', 'Blockeel KU', 'Leuven,', 'Belgium Abstract', 'In', 'this', 'paper,', 'We', 'investigate', 'how', 'feature', 'interactions', 'can be', 'identi', 'ﬁed', 'to', 'be', 'used', 'as', 'constraints', 'in', 'gradient', 'boosting', 'tree', 'mod- els', 'through', 'XGBoost’s', 'implementation', 'Our', 'results', 'show', 'tha', 't', 'accurate identiﬁcation', 'of', 'these', 'constraints', 'can', 'help', 'improve', 'the', 'performanc', 'e of', 'baseline', 'XGBoost', 'model', 'signi', 'ﬁcantly', 'Further,', 'improvement', 'in', 'the model', 'structure', 'can', 'also', 'lead', 'to', 'better', 'interpretability Keywords', 'Feature', 'Interaction', '·XGBoost', '·Constraints', '·Interpretabil- ity 1', 'Introduction In', 'statistics,', 'two', 'variables', 'X1andX2are', 'said', 'to', 'interact', 'when', 'the', 'e', 'ﬀect', 'of X1on', 'a', 'target', 'variable', 'Yis', 'not', 'constant,', 'but', 'may', 'depend', 'on', 'the', 'value', 'of', 'X2 \"Eﬀect\"', 'here', 'refers', 'to', 'the', 'increase', 'or', 'decrease', 'of', 'Ythat', 'is', 'caused', 'by', 'a', 'change inX1(while', 'keeping', 'X2constant)', 'Interaction', 'does', 'not', 'occur', 'in', 'linear', 'models of', 'the', 'form Y=aX1+bX2 an', 'unit', 'increase', 'of', 'X1by', '1', 'will', 'always', 'increase', 'Ybya(assuming', 'X2is', 'kept constant)', 'On', 'the', 'other', 'hand,', 'a', 'model', 'of', 'the', 'form Y=aX1+bX2+cX1X2 does', 'have', 'interaction', 'rewriting', 'it', 'as Y=', '(a+cX2)X1+bX2 makes', 'clear', 'that', 'a', 'unit', 'increase', 'of', 'X1increases', 'Ybya+cX2,', 'hence,', 'by', 'a', 'value that', 'depends', 'on', 'X2', 'In', 'statistics,', 'a', 'common', 'way', 'to', 'detect', 'interaction', 'is', 'to', 'train models', 'with', 'and', 'without', 'product', 'terms,', 'and', 'check', 'whether', 'the', 'ver', 'sion', 'with', 'a product', 'term', 'signi', 'ﬁcantly', 'outperforms', 'the', 'one', 'without In', 'the', 'context', 'of', 'decision', 'trees,', 'X1andX2do', 'not', 'interact', 'if', 'the', 'following holds', 'whenever', 'a', 'test', 'of', 'X2is', 'used,', 'either', 'X2does', 'not', 'occur', 'in', 'any', 'of', 'the branches,', 'or', 'if', 'it', 'does,', 'it', 'must', 'be', 'tested', 'in', 'exactly', 'the', 'same', 'w', 'ay', 'in', 'all', 'branches Indeed,', 'if', 'we', 'would', 'have', 'a', 'test', 'X1a', 'where', 'the', 'left', 'branch', 'contains', 'X2b', 'and the', 'right', 'one', 'does', 'not,', 'this', 'means', 'that', 'the', 'target', 'depends', 'on', 'X2ifX1a,', 'but does', 'not', 'depend', 'on', 'it', 'if', 'X1a', 'that', 'is,', 'the', 'e', 'ﬀect', 'ofX2onYclearly', 'depends on', 'the', 'value', 'of', 'X1', 'Obviously,', 'having', 'identical', 'sub-trees', 'in', 'the', 'left', 'and', 'righ', 't']\n",
            "\n",
            "number of total strings : 291\n"
          ]
        }
      ],
      "source": [
        "_text3 =[]\n",
        "for ch in _text2b:\n",
        "    _text3.append(re.sub('[><?:;.\\[\\]]','', ch) )\n",
        "    \n",
        "print(_text3)\n",
        "print('')\n",
        "print( 'number of total strings :', len(_text3) )"
      ]
    },
    {
      "cell_type": "markdown",
      "id": "c81fa771",
      "metadata": {
        "id": "c81fa771"
      },
      "source": [
        "#### Step 4 : Remove un-wanted  strings, such as, (i), (ii), (iii), ... etc."
      ]
    },
    {
      "cell_type": "code",
      "execution_count": null,
      "id": "128a8c5b",
      "metadata": {
        "id": "128a8c5b",
        "outputId": "36a87e8c-7d29-4f43-abb4-12f6b0772e89"
      },
      "outputs": [
        {
          "data": {
            "text/plain": [
              "' this is item number one,  this is item number two'"
            ]
          },
          "execution_count": 221,
          "metadata": {},
          "output_type": "execute_result"
        }
      ],
      "source": [
        "s = '(i) this is item number one, (ii) this is item number two'\n",
        "re.sub('\\([a-z]+\\)','',s)\n"
      ]
    },
    {
      "cell_type": "code",
      "execution_count": null,
      "id": "97310c61",
      "metadata": {
        "id": "97310c61",
        "outputId": "ebac0855-855b-4f23-b57d-222c11fbb042"
      },
      "outputs": [
        {
          "name": "stdout",
          "output_type": "stream",
          "text": [
            "['Feature', 'Interactions', 'in', 'XGBoost Kshitij', 'Goyal,', 'Sebastijan', 'Dumancic,', 'Hendrik', 'Blockeel KU', 'Leuven,', 'Belgium Abstract', 'In', 'this', 'paper,', 'We', 'investigate', 'how', 'feature', 'interactions', 'can be', 'identi', 'ﬁed', 'to', 'be', 'used', 'as', 'constraints', 'in', 'gradient', 'boosting', 'tree', 'mod- els', 'through', 'XGBoost’s', 'implementation', 'Our', 'results', 'show', 'tha', 't', 'accurate identiﬁcation', 'of', 'these', 'constraints', 'can', 'help', 'improve', 'the', 'performanc', 'e of', 'baseline', 'XGBoost', 'model', 'signi', 'ﬁcantly', 'Further,', 'improvement', 'in', 'the model', 'structure', 'can', 'also', 'lead', 'to', 'better', 'interpretability Keywords', 'Feature', 'Interaction', '·XGBoost', '·Constraints', '·Interpretabil- ity 1', 'Introduction In', 'statistics,', 'two', 'variables', 'X1andX2are', 'said', 'to', 'interact', 'when', 'the', 'e', 'ﬀect', 'of X1on', 'a', 'target', 'variable', 'Yis', 'not', 'constant,', 'but', 'may', 'depend', 'on', 'the', 'value', 'of', 'X2 \"Eﬀect\"', 'here', 'refers', 'to', 'the', 'increase', 'or', 'decrease', 'of', 'Ythat', 'is', 'caused', 'by', 'a', 'change inX1(while', 'keeping', 'X2constant)', 'Interaction', 'does', 'not', 'occur', 'in', 'linear', 'models of', 'the', 'form Y=aX1+bX2 an', 'unit', 'increase', 'of', 'X1by', '1', 'will', 'always', 'increase', 'Ybya(assuming', 'X2is', 'kept constant)', 'On', 'the', 'other', 'hand,', 'a', 'model', 'of', 'the', 'form Y=aX1+bX2+cX1X2 does', 'have', 'interaction', 'rewriting', 'it', 'as Y=', '(a+cX2)X1+bX2 makes', 'clear', 'that', 'a', 'unit', 'increase', 'of', 'X1increases', 'Ybya+cX2,', 'hence,', 'by', 'a', 'value that', 'depends', 'on', 'X2', 'In', 'statistics,', 'a', 'common', 'way', 'to', 'detect', 'interaction', 'is', 'to', 'train models', 'with', 'and', 'without', 'product', 'terms,', 'and', 'check', 'whether', 'the', 'ver', 'sion', 'with', 'a product', 'term', 'signi', 'ﬁcantly', 'outperforms', 'the', 'one', 'without In', 'the', 'context', 'of', 'decision', 'trees,', 'X1andX2do', 'not', 'interact', 'if', 'the', 'following holds', 'whenever', 'a', 'test', 'of', 'X2is', 'used,', 'either', 'X2does', 'not', 'occur', 'in', 'any', 'of', 'the branches,', 'or', 'if', 'it', 'does,', 'it', 'must', 'be', 'tested', 'in', 'exactly', 'the', 'same', 'w', 'ay', 'in', 'all', 'branches Indeed,', 'if', 'we', 'would', 'have', 'a', 'test', 'X1a', 'where', 'the', 'left', 'branch', 'contains', 'X2b', 'and the', 'right', 'one', 'does', 'not,', 'this', 'means', 'that', 'the', 'target', 'depends', 'on', 'X2ifX1a,', 'but does', 'not', 'depend', 'on', 'it', 'if', 'X1a', 'that', 'is,', 'the', 'e', 'ﬀect', 'ofX2onYclearly', 'depends on', 'the', 'value', 'of', 'X1', 'Obviously,', 'having', 'identical', 'sub-trees', 'in', 'the', 'left', 'and', 'righ', 't']\n",
            "\n",
            "number of total strings : 291\n"
          ]
        }
      ],
      "source": [
        "_text4a  =[]\n",
        "for ch in _text3:\n",
        "    _text4a.append(re.sub('\\([a-z]+\\)','', ch) )\n",
        "print(_text4a)\n",
        "print('')\n",
        "print( 'number of total strings :', len(_text4a) )"
      ]
    },
    {
      "cell_type": "markdown",
      "id": "cdfb2844",
      "metadata": {
        "id": "cdfb2844"
      },
      "source": [
        "Remove strings with length 0"
      ]
    },
    {
      "cell_type": "code",
      "execution_count": null,
      "id": "b672be24",
      "metadata": {
        "id": "b672be24",
        "outputId": "c5ce1e01-ec6d-4c0c-b703-07ba3d5220b0"
      },
      "outputs": [
        {
          "name": "stdout",
          "output_type": "stream",
          "text": [
            "['Feature', 'Interactions', 'in', 'XGBoost Kshitij', 'Goyal,', 'Sebastijan', 'Dumancic,', 'Hendrik', 'Blockeel KU', 'Leuven,', 'Belgium Abstract', 'In', 'this', 'paper,', 'We', 'investigate', 'how', 'feature', 'interactions', 'can be', 'identi', 'ﬁed', 'to', 'be', 'used', 'as', 'constraints', 'in', 'gradient', 'boosting', 'tree', 'mod- els', 'through', 'XGBoost’s', 'implementation', 'Our', 'results', 'show', 'tha', 't', 'accurate identiﬁcation', 'of', 'these', 'constraints', 'can', 'help', 'improve', 'the', 'performanc', 'e of', 'baseline', 'XGBoost', 'model', 'signi', 'ﬁcantly', 'Further,', 'improvement', 'in', 'the model', 'structure', 'can', 'also', 'lead', 'to', 'better', 'interpretability Keywords', 'Feature', 'Interaction', '·XGBoost', '·Constraints', '·Interpretabil- ity 1', 'Introduction In', 'statistics,', 'two', 'variables', 'X1andX2are', 'said', 'to', 'interact', 'when', 'the', 'e', 'ﬀect', 'of X1on', 'a', 'target', 'variable', 'Yis', 'not', 'constant,', 'but', 'may', 'depend', 'on', 'the', 'value', 'of', 'X2 \"Eﬀect\"', 'here', 'refers', 'to', 'the', 'increase', 'or', 'decrease', 'of', 'Ythat', 'is', 'caused', 'by', 'a', 'change inX1(while', 'keeping', 'X2constant)', 'Interaction', 'does', 'not', 'occur', 'in', 'linear', 'models of', 'the', 'form Y=aX1+bX2 an', 'unit', 'increase', 'of', 'X1by', '1', 'will', 'always', 'increase', 'Ybya(assuming', 'X2is', 'kept constant)', 'On', 'the', 'other', 'hand,', 'a', 'model', 'of', 'the', 'form Y=aX1+bX2+cX1X2 does', 'have', 'interaction', 'rewriting', 'it', 'as Y=', '(a+cX2)X1+bX2 makes', 'clear', 'that', 'a', 'unit', 'increase', 'of', 'X1increases', 'Ybya+cX2,', 'hence,', 'by', 'a', 'value that', 'depends', 'on', 'X2', 'In', 'statistics,', 'a', 'common', 'way', 'to', 'detect', 'interaction', 'is', 'to', 'train models', 'with', 'and', 'without', 'product', 'terms,', 'and', 'check', 'whether', 'the', 'ver', 'sion', 'with', 'a product', 'term', 'signi', 'ﬁcantly', 'outperforms', 'the', 'one', 'without In', 'the', 'context', 'of', 'decision', 'trees,', 'X1andX2do', 'not', 'interact', 'if', 'the', 'following holds', 'whenever', 'a', 'test', 'of', 'X2is', 'used,', 'either', 'X2does', 'not', 'occur', 'in', 'any', 'of', 'the branches,', 'or', 'if', 'it', 'does,', 'it', 'must', 'be', 'tested', 'in', 'exactly', 'the', 'same', 'w', 'ay', 'in', 'all', 'branches Indeed,', 'if', 'we', 'would', 'have', 'a', 'test', 'X1a', 'where', 'the', 'left', 'branch', 'contains', 'X2b', 'and the', 'right', 'one', 'does', 'not,', 'this', 'means', 'that', 'the', 'target', 'depends', 'on', 'X2ifX1a,', 'but does', 'not', 'depend', 'on', 'it', 'if', 'X1a', 'that', 'is,', 'the', 'e', 'ﬀect', 'ofX2onYclearly', 'depends on', 'the', 'value', 'of', 'X1', 'Obviously,', 'having', 'identical', 'sub-trees', 'in', 'the', 'left', 'and', 'righ', 't']\n",
            "\n",
            "number of total strings : 291\n"
          ]
        }
      ],
      "source": [
        "\n",
        "for i in _text4a :\n",
        "        if len(i)== 0:\n",
        "                 _text4a.remove(i)\n",
        "                \n",
        "        _text4b= _text4a.copy()\n",
        "\n",
        "\n",
        "print(_text4b)\n",
        "print('')\n",
        "print( 'number of total strings :', len(_text4b) )"
      ]
    },
    {
      "cell_type": "markdown",
      "id": "b1149e0a",
      "metadata": {
        "id": "b1149e0a"
      },
      "source": [
        "#### Step 5 : Lower case all strings"
      ]
    },
    {
      "cell_type": "markdown",
      "id": "5adc35a8",
      "metadata": {
        "id": "5adc35a8"
      },
      "source": [
        "Check & Learn : Lower case a string "
      ]
    },
    {
      "cell_type": "code",
      "execution_count": null,
      "id": "20ed6910",
      "metadata": {
        "id": "20ed6910"
      },
      "outputs": [],
      "source": [
        "#'BANGLADESH'.lower()\n",
        "#'Bangladesh'.lower()"
      ]
    },
    {
      "cell_type": "code",
      "execution_count": null,
      "id": "4a28b093",
      "metadata": {
        "id": "4a28b093",
        "outputId": "3dad3d53-f11e-4e0e-ccd5-ce54d7fd6171"
      },
      "outputs": [
        {
          "name": "stdout",
          "output_type": "stream",
          "text": [
            "['feature', 'interactions', 'in', 'xgboost kshitij', 'goyal,', 'sebastijan', 'dumancic,', 'hendrik', 'blockeel ku', 'leuven,', 'belgium abstract', 'in', 'this', 'paper,', 'we', 'investigate', 'how', 'feature', 'interactions', 'can be', 'identi', 'ﬁed', 'to', 'be', 'used', 'as', 'constraints', 'in', 'gradient', 'boosting', 'tree', 'mod- els', 'through', 'xgboost’s', 'implementation', 'our', 'results', 'show', 'tha', 't', 'accurate identiﬁcation', 'of', 'these', 'constraints', 'can', 'help', 'improve', 'the', 'performanc', 'e of', 'baseline', 'xgboost', 'model', 'signi', 'ﬁcantly', 'further,', 'improvement', 'in', 'the model', 'structure', 'can', 'also', 'lead', 'to', 'better', 'interpretability keywords', 'feature', 'interaction', '·xgboost', '·constraints', '·interpretabil- ity 1', 'introduction in', 'statistics,', 'two', 'variables', 'x1andx2are', 'said', 'to', 'interact', 'when', 'the', 'e', 'ﬀect', 'of x1on', 'a', 'target', 'variable', 'yis', 'not', 'constant,', 'but', 'may', 'depend', 'on', 'the', 'value', 'of', 'x2 \"eﬀect\"', 'here', 'refers', 'to', 'the', 'increase', 'or', 'decrease', 'of', 'ythat', 'is', 'caused', 'by', 'a', 'change inx1(while', 'keeping', 'x2constant)', 'interaction', 'does', 'not', 'occur', 'in', 'linear', 'models of', 'the', 'form y=ax1+bx2 an', 'unit', 'increase', 'of', 'x1by', '1', 'will', 'always', 'increase', 'ybya(assuming', 'x2is', 'kept constant)', 'on', 'the', 'other', 'hand,', 'a', 'model', 'of', 'the', 'form y=ax1+bx2+cx1x2 does', 'have', 'interaction', 'rewriting', 'it', 'as y=', '(a+cx2)x1+bx2 makes', 'clear', 'that', 'a', 'unit', 'increase', 'of', 'x1increases', 'ybya+cx2,', 'hence,', 'by', 'a', 'value that', 'depends', 'on', 'x2', 'in', 'statistics,', 'a', 'common', 'way', 'to', 'detect', 'interaction', 'is', 'to', 'train models', 'with', 'and', 'without', 'product', 'terms,', 'and', 'check', 'whether', 'the', 'ver', 'sion', 'with', 'a product', 'term', 'signi', 'ﬁcantly', 'outperforms', 'the', 'one', 'without in', 'the', 'context', 'of', 'decision', 'trees,', 'x1andx2do', 'not', 'interact', 'if', 'the', 'following holds', 'whenever', 'a', 'test', 'of', 'x2is', 'used,', 'either', 'x2does', 'not', 'occur', 'in', 'any', 'of', 'the branches,', 'or', 'if', 'it', 'does,', 'it', 'must', 'be', 'tested', 'in', 'exactly', 'the', 'same', 'w', 'ay', 'in', 'all', 'branches indeed,', 'if', 'we', 'would', 'have', 'a', 'test', 'x1a', 'where', 'the', 'left', 'branch', 'contains', 'x2b', 'and the', 'right', 'one', 'does', 'not,', 'this', 'means', 'that', 'the', 'target', 'depends', 'on', 'x2ifx1a,', 'but does', 'not', 'depend', 'on', 'it', 'if', 'x1a', 'that', 'is,', 'the', 'e', 'ﬀect', 'ofx2onyclearly', 'depends on', 'the', 'value', 'of', 'x1', 'obviously,', 'having', 'identical', 'sub-trees', 'in', 'the', 'left', 'and', 'righ', 't']\n",
            "\n",
            "number of total strings : 291\n"
          ]
        }
      ],
      "source": [
        "_text5 = []\n",
        "for ch in _text4b:\n",
        "    _text5.append(ch.lower())\n",
        "print(_text5)\n",
        "print('')\n",
        "print( 'number of total strings :', len(_text5) )"
      ]
    },
    {
      "cell_type": "markdown",
      "id": "ccca2549",
      "metadata": {
        "id": "ccca2549"
      },
      "source": [
        "#### Step 6 : There are some compound strings, such as, seperated by dash. Need  to fix those strings."
      ]
    },
    {
      "cell_type": "markdown",
      "id": "effce9ec",
      "metadata": {
        "id": "effce9ec"
      },
      "source": [
        "Check & Learn : append() method of a list"
      ]
    },
    {
      "cell_type": "code",
      "execution_count": null,
      "id": "b3adc14e",
      "metadata": {
        "id": "b3adc14e"
      },
      "outputs": [],
      "source": [
        "# a = [1,2,3]\n",
        "# b = 99          # here b is a scalar\n",
        "# a.append(b)\n",
        "# print(a)"
      ]
    },
    {
      "cell_type": "markdown",
      "id": "77108de2",
      "metadata": {
        "id": "77108de2"
      },
      "source": [
        "Check & Learn : extend() method of a list"
      ]
    },
    {
      "cell_type": "code",
      "execution_count": null,
      "id": "03a45fb2",
      "metadata": {
        "id": "03a45fb2",
        "outputId": "4d3d4e4e-3c53-430c-de3b-97c8231f9d7d"
      },
      "outputs": [
        {
          "name": "stdout",
          "output_type": "stream",
          "text": [
            "[1, 2, 3, 99]\n"
          ]
        }
      ],
      "source": [
        " a = [1,2,3]\n",
        " b = [99]        # here b is a single-element list\n",
        " a.extend(b)\n",
        "print(a)"
      ]
    },
    {
      "cell_type": "code",
      "execution_count": null,
      "id": "a0ac96ad",
      "metadata": {
        "id": "a0ac96ad"
      },
      "outputs": [],
      "source": [
        "_text6 = []\n",
        "\n",
        "for elem in _text5:\n",
        "    e = elem.split('-')\n",
        "\n",
        "    if len(e) == 1:\n",
        "        _text6.append(e[0])\n",
        "    elif len(e) > 1:\n",
        "        _text6.extend(e)\n",
        "    else:\n",
        "        pass"
      ]
    },
    {
      "cell_type": "code",
      "execution_count": null,
      "id": "f7010062",
      "metadata": {
        "id": "f7010062",
        "outputId": "06980425-a40f-45fe-e407-130cfcfaf6f5"
      },
      "outputs": [
        {
          "name": "stdout",
          "output_type": "stream",
          "text": [
            "['feature', 'interactions', 'in', 'xgboost kshitij', 'goyal,', 'sebastijan', 'dumancic,', 'hendrik', 'blockeel ku', 'leuven,', 'belgium abstract', 'in', 'this', 'paper,', 'we', 'investigate', 'how', 'feature', 'interactions', 'can be', 'identi', 'ﬁed', 'to', 'be', 'used', 'as', 'constraints', 'in', 'gradient', 'boosting', 'tree', 'mod', ' els', 'through', 'xgboost’s', 'implementation', 'our', 'results', 'show', 'tha', 't', 'accurate identiﬁcation', 'of', 'these', 'constraints', 'can', 'help', 'improve', 'the', 'performanc', 'e of', 'baseline', 'xgboost', 'model', 'signi', 'ﬁcantly', 'further,', 'improvement', 'in', 'the model', 'structure', 'can', 'also', 'lead', 'to', 'better', 'interpretability keywords', 'feature', 'interaction', '·xgboost', '·constraints', '·interpretabil', ' ity 1', 'introduction in', 'statistics,', 'two', 'variables', 'x1andx2are', 'said', 'to', 'interact', 'when', 'the', 'e', 'ﬀect', 'of x1on', 'a', 'target', 'variable', 'yis', 'not', 'constant,', 'but', 'may', 'depend', 'on', 'the', 'value', 'of', 'x2 \"eﬀect\"', 'here', 'refers', 'to', 'the', 'increase', 'or', 'decrease', 'of', 'ythat', 'is', 'caused', 'by', 'a', 'change inx1(while', 'keeping', 'x2constant)', 'interaction', 'does', 'not', 'occur', 'in', 'linear', 'models of', 'the', 'form y=ax1+bx2 an', 'unit', 'increase', 'of', 'x1by', '1', 'will', 'always', 'increase', 'ybya(assuming', 'x2is', 'kept constant)', 'on', 'the', 'other', 'hand,', 'a', 'model', 'of', 'the', 'form y=ax1+bx2+cx1x2 does', 'have', 'interaction', 'rewriting', 'it', 'as y=', '(a+cx2)x1+bx2 makes', 'clear', 'that', 'a', 'unit', 'increase', 'of', 'x1increases', 'ybya+cx2,', 'hence,', 'by', 'a', 'value that', 'depends', 'on', 'x2', 'in', 'statistics,', 'a', 'common', 'way', 'to', 'detect', 'interaction', 'is', 'to', 'train models', 'with', 'and', 'without', 'product', 'terms,', 'and', 'check', 'whether', 'the', 'ver', 'sion', 'with', 'a product', 'term', 'signi', 'ﬁcantly', 'outperforms', 'the', 'one', 'without in', 'the', 'context', 'of', 'decision', 'trees,', 'x1andx2do', 'not', 'interact', 'if', 'the', 'following holds', 'whenever', 'a', 'test', 'of', 'x2is', 'used,', 'either', 'x2does', 'not', 'occur', 'in', 'any', 'of', 'the branches,', 'or', 'if', 'it', 'does,', 'it', 'must', 'be', 'tested', 'in', 'exactly', 'the', 'same', 'w', 'ay', 'in', 'all', 'branches indeed,', 'if', 'we', 'would', 'have', 'a', 'test', 'x1a', 'where', 'the', 'left', 'branch', 'contains', 'x2b', 'and the', 'right', 'one', 'does', 'not,', 'this', 'means', 'that', 'the', 'target', 'depends', 'on', 'x2ifx1a,', 'but does', 'not', 'depend', 'on', 'it', 'if', 'x1a', 'that', 'is,', 'the', 'e', 'ﬀect', 'ofx2onyclearly', 'depends on', 'the', 'value', 'of', 'x1', 'obviously,', 'having', 'identical', 'sub', 'trees', 'in', 'the', 'left', 'and', 'righ', 't']\n",
            "\n",
            "number of total strings : 294\n"
          ]
        }
      ],
      "source": [
        "print(_text6)\n",
        "print('')\n",
        "print( 'number of total strings :', len(_text6) )"
      ]
    },
    {
      "cell_type": "markdown",
      "id": "ed62884c",
      "metadata": {
        "id": "ed62884c"
      },
      "source": [
        "#### Step 7 : Remove stopwords"
      ]
    },
    {
      "cell_type": "markdown",
      "id": "4d04284a",
      "metadata": {
        "id": "4d04284a"
      },
      "source": [
        "First import `nltk` package"
      ]
    },
    {
      "cell_type": "code",
      "execution_count": null,
      "id": "3c92a335",
      "metadata": {
        "id": "3c92a335",
        "outputId": "f4364ce8-85d7-48f1-d329-c6af0689df2c"
      },
      "outputs": [
        {
          "name": "stdout",
          "output_type": "stream",
          "text": [
            "Collecting nltk\n",
            "  Downloading nltk-3.7-py3-none-any.whl (1.5 MB)\n",
            "\u001b[2K     \u001b[90m━━━━━━━━━━━━━━━━━━━━━━━━━━━━━━━━━━━━━━━━\u001b[0m \u001b[32m1.5/1.5 MB\u001b[0m \u001b[31m81.0 kB/s\u001b[0m eta \u001b[36m0:00:00\u001b[0m00:01\u001b[0m00:01\u001b[0mm\n",
            "\u001b[?25hRequirement already satisfied: joblib in /Users/mehadihassansaki/miniforge3/lib/python3.9/site-packages (from nltk) (1.2.0)\n",
            "Requirement already satisfied: tqdm in /Users/mehadihassansaki/miniforge3/lib/python3.9/site-packages (from nltk) (4.62.3)\n",
            "Collecting click\n",
            "  Downloading click-8.1.3-py3-none-any.whl (96 kB)\n",
            "\u001b[2K     \u001b[90m━━━━━━━━━━━━━━━━━━━━━━━━━━━━━━━━━━━━━━━━\u001b[0m \u001b[32m96.6/96.6 kB\u001b[0m \u001b[31m55.7 kB/s\u001b[0m eta \u001b[36m0:00:00\u001b[0ma \u001b[36m0:00:01\u001b[0m\n",
            "\u001b[?25hCollecting regex>=2021.8.3\n",
            "  Downloading regex-2022.10.31-cp39-cp39-macosx_11_0_arm64.whl (287 kB)\n",
            "\u001b[2K     \u001b[90m━━━━━━━━━━━━━━━━━━━━━━━━━━━━━━━━━━━━━━\u001b[0m \u001b[32m287.2/287.2 kB\u001b[0m \u001b[31m54.8 kB/s\u001b[0m eta \u001b[36m0:00:00\u001b[0ma \u001b[36m0:00:01\u001b[0m\n",
            "\u001b[?25hInstalling collected packages: regex, click, nltk\n",
            "Successfully installed click-8.1.3 nltk-3.7 regex-2022.10.31\n"
          ]
        }
      ],
      "source": [
        "!pip install nltk"
      ]
    },
    {
      "cell_type": "markdown",
      "id": "f6aa6187",
      "metadata": {
        "id": "f6aa6187"
      },
      "source": [
        "Download `stopwords`"
      ]
    },
    {
      "cell_type": "code",
      "execution_count": null,
      "id": "98e269fc",
      "metadata": {
        "id": "98e269fc",
        "outputId": "5a3e7d0d-f0c7-44e6-a48b-7262aba52ae5"
      },
      "outputs": [
        {
          "name": "stderr",
          "output_type": "stream",
          "text": [
            "[nltk_data] Downloading package stopwords to\n",
            "[nltk_data]     /Users/mehadihassansaki/nltk_data...\n",
            "[nltk_data]   Package stopwords is already up-to-date!\n"
          ]
        },
        {
          "data": {
            "text/plain": [
              "True"
            ]
          },
          "execution_count": 230,
          "metadata": {},
          "output_type": "execute_result"
        }
      ],
      "source": [
        "# use this only once\n",
        "import nltk\n",
        "nltk.download('stopwords')"
      ]
    },
    {
      "cell_type": "markdown",
      "id": "a0585815",
      "metadata": {
        "id": "a0585815"
      },
      "source": [
        "Look at the list of english `stopwords`"
      ]
    },
    {
      "cell_type": "code",
      "execution_count": null,
      "id": "901315c1",
      "metadata": {
        "id": "901315c1",
        "outputId": "3ef407c3-16f7-49d7-86a9-66077cac1696"
      },
      "outputs": [
        {
          "name": "stdout",
          "output_type": "stream",
          "text": [
            "['i', 'me', 'my', 'myself', 'we', 'our', 'ours', 'ourselves', 'you', \"you're\", \"you've\", \"you'll\", \"you'd\", 'your', 'yours', 'yourself', 'yourselves', 'he', 'him', 'his', 'himself', 'she', \"she's\", 'her', 'hers', 'herself', 'it', \"it's\", 'its', 'itself', 'they', 'them', 'their', 'theirs', 'themselves', 'what', 'which', 'who', 'whom', 'this', 'that', \"that'll\", 'these', 'those', 'am', 'is', 'are', 'was', 'were', 'be', 'been', 'being', 'have', 'has', 'had', 'having', 'do', 'does', 'did', 'doing', 'a', 'an', 'the', 'and', 'but', 'if', 'or', 'because', 'as', 'until', 'while', 'of', 'at', 'by', 'for', 'with', 'about', 'against', 'between', 'into', 'through', 'during', 'before', 'after', 'above', 'below', 'to', 'from', 'up', 'down', 'in', 'out', 'on', 'off', 'over', 'under', 'again', 'further', 'then', 'once', 'here', 'there', 'when', 'where', 'why', 'how', 'all', 'any', 'both', 'each', 'few', 'more', 'most', 'other', 'some', 'such', 'no', 'nor', 'not', 'only', 'own', 'same', 'so', 'than', 'too', 'very', 's', 't', 'can', 'will', 'just', 'don', \"don't\", 'should', \"should've\", 'now', 'd', 'll', 'm', 'o', 're', 've', 'y', 'ain', 'aren', \"aren't\", 'couldn', \"couldn't\", 'didn', \"didn't\", 'doesn', \"doesn't\", 'hadn', \"hadn't\", 'hasn', \"hasn't\", 'haven', \"haven't\", 'isn', \"isn't\", 'ma', 'mightn', \"mightn't\", 'mustn', \"mustn't\", 'needn', \"needn't\", 'shan', \"shan't\", 'shouldn', \"shouldn't\", 'wasn', \"wasn't\", 'weren', \"weren't\", 'won', \"won't\", 'wouldn', \"wouldn't\"]\n"
          ]
        }
      ],
      "source": [
        "from nltk.corpus import stopwords\n",
        "\n",
        "print(stopwords.words('english'))\n"
      ]
    },
    {
      "cell_type": "markdown",
      "id": "19a8ddba",
      "metadata": {
        "id": "19a8ddba"
      },
      "source": [
        "How can you find Bangla stopwords?"
      ]
    },
    {
      "cell_type": "code",
      "execution_count": null,
      "id": "4a6f0928",
      "metadata": {
        "id": "4a6f0928",
        "outputId": "50b4fb66-c257-4bca-e8e7-d5e440530c17"
      },
      "outputs": [
        {
          "name": "stdout",
          "output_type": "stream",
          "text": [
            "['অতএব', 'অথচ', 'অথবা', 'অনুযায়ী', 'অনেক', 'অনেকে', 'অনেকেই', 'অন্তত', 'অন্য', 'অবধি', 'অবশ্য', 'অর্থাত', 'আই', 'আগামী', 'আগে', 'আগেই', 'আছে', 'আজ', 'আদ্যভাগে', 'আপনার', 'আপনি', 'আবার', 'আমরা', 'আমাকে', 'আমাদের', 'আমার', 'আমি', 'আর', 'আরও', 'ই', 'ইত্যাদি', 'ইহা', 'উচিত', 'উত্তর', 'উনি', 'উপর', 'উপরে', 'এ', 'এঁদের', 'এঁরা', 'এই', 'একই', 'একটি', 'একবার', 'একে', 'এক্', 'এখন', 'এখনও', 'এখানে', 'এখানেই', 'এটা', 'এটাই', 'এটি', 'এত', 'এতটাই', 'এতে', 'এদের', 'এব', 'এবং', 'এবার', 'এমন', 'এমনকী', 'এমনি', 'এর', 'এরা', 'এল', 'এস', 'এসে', 'ঐ', 'ও', 'ওঁদের', 'ওঁর', 'ওঁরা', 'ওই', 'ওকে', 'ওখানে', 'ওদের', 'ওর', 'ওরা', 'কখনও', 'কত', 'কবে', 'কমনে', 'কয়েক', 'কয়েকটি', 'করছে', 'করছেন', 'করতে', 'করবে', 'করবেন', 'করলে', 'করলেন', 'করা', 'করাই', 'করায়', 'করার', 'করি', 'করিতে', 'করিয়া', 'করিয়ে', 'করে', 'করেই', 'করেছিলেন', 'করেছে', 'করেছেন', 'করেন', 'কাউকে', 'কাছ', 'কাছে', 'কাজ', 'কাজে', 'কারও', 'কারণ', 'কি', 'কিংবা', 'কিছু', 'কিছুই', 'কিন্তু', 'কী', 'কে', 'কেউ', 'কেউই', 'কেখা', 'কেন', 'কোটি', 'কোন', 'কোনও', 'কোনো', 'ক্ষেত্রে', 'কয়েক', 'খুব', 'গিয়ে', 'গিয়েছে', 'গিয়ে', 'গুলি', 'গেছে', 'গেল', 'গেলে', 'গোটা', 'চলে', 'চান', 'চায়', 'চার', 'চালু', 'চেয়ে', 'চেষ্টা', 'ছাড়া', 'ছাড়াও', 'ছিল', 'ছিলেন', 'জন', 'জনকে', 'জনের', 'জন্য', 'জন্যওজে', 'জানতে', 'জানা', 'জানানো', 'জানায়', 'জানিয়ে', 'জানিয়েছে', 'জে', 'জ্নজন', 'টি', 'ঠিক', 'তখন', 'তত', 'তথা', 'তবু', 'তবে', 'তা', 'তাঁকে', 'তাঁদের', 'তাঁর', 'তাঁরা', 'তাঁাহারা', 'তাই', 'তাও', 'তাকে', 'তাতে', 'তাদের', 'তার', 'তারপর', 'তারা', 'তারৈ', 'তাহলে', 'তাহা', 'তাহাতে', 'তাহার', 'তিনঐ', 'তিনি', 'তিনিও', 'তুমি', 'তুলে', 'তেমন', 'তো', 'তোমার', 'থাকবে', 'থাকবেন', 'থাকা', 'থাকায়', 'থাকে', 'থাকেন', 'থেকে', 'থেকেই', 'থেকেও', 'দিকে', 'দিতে', 'দিন', 'দিয়ে', 'দিয়েছে', 'দিয়েছেন', 'দিলেন', 'দু', 'দুই', 'দুটি', 'দুটো', 'দেওয়া', 'দেওয়ার', 'দেওয়া', 'দেখতে', 'দেখা', 'দেখে', 'দেন', 'দেয়', 'দ্বারা', 'ধরা', 'ধরে', 'ধামার', 'নতুন', 'নয়', 'না', 'নাই', 'নাকি', 'নাগাদ', 'নানা', 'নিজে', 'নিজেই', 'নিজেদের', 'নিজের', 'নিতে', 'নিয়ে', 'নিয়ে', 'নেই', 'নেওয়া', 'নেওয়ার', 'নেওয়া', 'নয়', 'পক্ষে', 'পর', 'পরে', 'পরেই', 'পরেও', 'পর্যন্ত', 'পাওয়া', 'পাচ', 'পারি', 'পারে', 'পারেন', 'পি', 'পেয়ে', 'পেয়্র্', 'প্রতি', 'প্রথম', 'প্রভৃতি', 'প্রযন্ত', 'প্রাথমিক', 'প্রায়', 'প্রায়', 'ফলে', 'ফিরে', 'ফের', 'বক্তব্য', 'বদলে', 'বন', 'বরং', 'বলতে', 'বলল', 'বললেন', 'বলা', 'বলে', 'বলেছেন', 'বলেন', 'বসে', 'বহু', 'বা', 'বাদে', 'বার', 'বি', 'বিনা', 'বিভিন্ন', 'বিশেষ', 'বিষয়টি', 'বেশ', 'বেশি', 'ব্যবহার', 'ব্যাপারে', 'ভাবে', 'ভাবেই', 'মতো', 'মতোই', 'মধ্যভাগে', 'মধ্যে', 'মধ্যেই', 'মধ্যেও', 'মনে', 'মাত্র', 'মাধ্যমে', 'মোট', 'মোটেই', 'যখন', 'যত', 'যতটা', 'যথেষ্ট', 'যদি', 'যদিও', 'যা', 'যাঁর', 'যাঁরা', 'যাওয়া', 'যাওয়ার', 'যাওয়া', 'যাকে', 'যাচ্ছে', 'যাতে', 'যাদের', 'যান', 'যাবে', 'যায়', 'যার', 'যারা', 'যিনি', 'যে', 'যেখানে', 'যেতে', 'যেন', 'যেমন', 'র', 'রকম', 'রয়েছে', 'রাখা', 'রেখে', 'লক্ষ', 'শুধু', 'শুরু', 'সঙ্গে', 'সঙ্গেও', 'সব', 'সবার', 'সমস্ত', 'সম্প্রতি', 'সহ', 'সহিত', 'সাধারণ', 'সামনে', 'সি', 'সুতরাং', 'সে', 'সেই', 'সেখান', 'সেখানে', 'সেটা', 'সেটাই', 'সেটাও', 'সেটি', 'স্পষ্ট', 'স্বয়ং', 'হইতে', 'হইবে', 'হইয়া', 'হওয়া', 'হওয়ায়', 'হওয়ার', 'হচ্ছে', 'হত', 'হতে', 'হতেই', 'হন', 'হবে', 'হবেন', 'হয়', 'হয়তো', 'হয়নি', 'হয়ে', 'হয়েই', 'হয়েছিল', 'হয়েছে', 'হয়েছেন', 'হল', 'হলে', 'হলেই', 'হলেও', 'হলো', 'হাজার', 'হিসাবে', 'হৈলে', 'হোক', 'হয়']\n"
          ]
        }
      ],
      "source": [
        "print(stopwords.words('bengali'))"
      ]
    },
    {
      "cell_type": "markdown",
      "id": "0390308d",
      "metadata": {
        "id": "0390308d"
      },
      "source": [
        "Remove english stopwords from the list `_text6`"
      ]
    },
    {
      "cell_type": "code",
      "execution_count": null,
      "id": "d91d7f99",
      "metadata": {
        "id": "d91d7f99"
      },
      "outputs": [],
      "source": [
        "stop = stopwords.words('english')\n",
        "for i in _text6:\n",
        "        for s in stop:\n",
        "                if i == s:\n",
        "                        _text6.remove(s)\n",
        "                \n",
        "        _text7= _text6.copy()\n",
        "\n",
        "\n",
        "\n",
        "# write your code here"
      ]
    },
    {
      "cell_type": "code",
      "execution_count": null,
      "id": "cb3efe52",
      "metadata": {
        "id": "cb3efe52",
        "outputId": "360b5ddf-093e-4e92-a506-7a8c91b4e749"
      },
      "outputs": [
        {
          "name": "stdout",
          "output_type": "stream",
          "text": [
            "['feature', 'interactions', 'xgboost kshitij', 'goyal,', 'sebastijan', 'dumancic,', 'hendrik', 'blockeel ku', 'leuven,', 'belgium abstract', 'paper,', 'investigate', 'feature', 'interactions', 'can be', 'identi', 'ﬁed', 'used', 'constraints', 'gradient', 'boosting', 'tree', 'mod', ' els', 'xgboost’s', 'implementation', 'results', 'show', 'tha', 'accurate identiﬁcation', 'constraints', 'help', 'improve', 'performanc', 'e of', 'baseline', 'xgboost', 'model', 'signi', 'ﬁcantly', 'further,', 'improvement', 'the model', 'structure', 'also', 'lead', 'better', 'interpretability keywords', 'feature', 'interaction', '·xgboost', '·constraints', '·interpretabil', ' ity 1', 'introduction in', 'statistics,', 'two', 'variables', 'x1andx2are', 'said', 'interact', 'e', 'ﬀect', 'of x1on', 'target', 'variable', 'yis', 'constant,', 'may', 'depend', 'value', 'x2 \"eﬀect\"', 'refers', 'increase', 'decrease', 'ythat', 'caused', 'change inx1(while', 'keeping', 'x2constant)', 'interaction', 'occur', 'linear', 'models of', 'form y=ax1+bx2 an', 'unit', 'increase', 'x1by', '1', 'always', 'increase', 'ybya(assuming', 'x2is', 'kept constant)', 'hand,', 'model', 'form y=ax1+bx2+cx1x2 does', 'interaction', 'rewriting', 'as y=', '(a+cx2)x1+bx2 makes', 'clear', 'unit', 'increase', 'x1increases', 'ybya+cx2,', 'hence,', 'value that', 'depends', 'x2', 'statistics,', 'common', 'way', 'detect', 'interaction', 'train models', 'without', 'product', 'terms,', 'check', 'whether', 'ver', 'sion', 'a product', 'term', 'signi', 'ﬁcantly', 'outperforms', 'one', 'without in', 'context', 'decision', 'trees,', 'x1andx2do', 'interact', 'following holds', 'whenever', 'test', 'x2is', 'used,', 'either', 'x2does', 'occur', 'the branches,', 'does,', 'must', 'tested', 'exactly', 'w', 'ay', 'branches indeed,', 'would', 'test', 'x1a', 'left', 'branch', 'contains', 'x2b', 'and the', 'right', 'one', 'not,', 'means', 'target', 'depends', 'x2ifx1a,', 'but does', 'depend', 'x1a', 'is,', 'e', 'ﬀect', 'ofx2onyclearly', 'depends on', 'value', 'x1', 'obviously,', 'identical', 'sub', 'trees', 'left', 'righ']\n",
            "\n",
            "number of total strings : 182\n"
          ]
        }
      ],
      "source": [
        "print( _text7 )\n",
        "print('')\n",
        "print( 'number of total strings :', len(_text7) )"
      ]
    },
    {
      "cell_type": "markdown",
      "id": "e3d74bd4",
      "metadata": {
        "id": "e3d74bd4"
      },
      "source": [
        "#### Step 8 : Stemming words   \n",
        "\n",
        "`!!!! Use this step with caution !!!!`"
      ]
    },
    {
      "cell_type": "code",
      "execution_count": null,
      "id": "6b38e8ba",
      "metadata": {
        "id": "6b38e8ba"
      },
      "outputs": [],
      "source": [
        "from nltk.stem.snowball import EnglishStemmer"
      ]
    },
    {
      "cell_type": "code",
      "execution_count": null,
      "id": "90262f13",
      "metadata": {
        "id": "90262f13"
      },
      "outputs": [],
      "source": [
        "stemmer = EnglishStemmer()\n",
        "_text8=[]\n",
        "for i in _text7:\n",
        "        _text8.append (stemmer .stem(i))\n",
        "                \n",
        "        "
      ]
    },
    {
      "cell_type": "code",
      "execution_count": null,
      "id": "12a1dcc8",
      "metadata": {
        "id": "12a1dcc8",
        "outputId": "d0106ff5-f433-444a-da12-6873ff357787"
      },
      "outputs": [
        {
          "name": "stdout",
          "output_type": "stream",
          "text": [
            "['featur', 'interact', 'xgboost kshitij', 'goyal,', 'sebastijan', 'dumancic,', 'hendrik', 'blockeel ku', 'leuven,', 'belgium abstract', 'paper,', 'investig', 'featur', 'interact', 'can b', 'identi', 'ﬁed', 'use', 'constraint', 'gradient', 'boost', 'tree', 'mod', ' el', 'xgboost', 'implement', 'result', 'show', 'tha', 'accurate identiﬁc', 'constraint', 'help', 'improv', 'performanc', 'e of', 'baselin', 'xgboost', 'model', 'signi', 'ﬁcant', 'further,', 'improv', 'the model', 'structur', 'also', 'lead', 'better', 'interpretability keyword', 'featur', 'interact', '·xgboost', '·constraint', '·interpretabil', ' ity 1', 'introduction in', 'statistics,', 'two', 'variabl', 'x1andx2ar', 'said', 'interact', 'e', 'ﬀect', 'of x1on', 'target', 'variabl', 'yis', 'constant,', 'may', 'depend', 'valu', 'x2 \"eﬀect\"', 'refer', 'increas', 'decreas', 'ythat', 'caus', 'change inx1(whil', 'keep', 'x2constant)', 'interact', 'occur', 'linear', 'models of', 'form y=ax1+bx2 an', 'unit', 'increas', 'x1bi', '1', 'alway', 'increas', 'ybya(assum', 'x2is', 'kept constant)', 'hand,', 'model', 'form y=ax1+bx2+cx1x2 do', 'interact', 'rewrit', 'as y=', '(a+cx2)x1+bx2 mak', 'clear', 'unit', 'increas', 'x1increas', 'ybya+cx2,', 'hence,', 'value that', 'depend', 'x2', 'statistics,', 'common', 'way', 'detect', 'interact', 'train model', 'without', 'product', 'terms,', 'check', 'whether', 'ver', 'sion', 'a product', 'term', 'signi', 'ﬁcant', 'outperform', 'one', 'without in', 'context', 'decis', 'trees,', 'x1andx2do', 'interact', 'following hold', 'whenev', 'test', 'x2is', 'used,', 'either', 'x2doe', 'occur', 'the branches,', 'does,', 'must', 'test', 'exact', 'w', 'ay', 'branches indeed,', 'would', 'test', 'x1a', 'left', 'branch', 'contain', 'x2b', 'and th', 'right', 'one', 'not,', 'mean', 'target', 'depend', 'x2ifx1a,', 'but do', 'depend', 'x1a', 'is,', 'e', 'ﬀect', 'ofx2onyclear', 'depends on', 'valu', 'x1', 'obviously,', 'ident', 'sub', 'tree', 'left', 'righ']\n",
            "\n",
            "number of total strings : 182\n"
          ]
        }
      ],
      "source": [
        "print( _text8 )\n",
        "print('')\n",
        "print( 'number of total strings :', len(_text8) )"
      ]
    },
    {
      "cell_type": "markdown",
      "id": "e45b2224",
      "metadata": {
        "id": "e45b2224"
      },
      "source": [
        "## Part 3 : Porcess Data"
      ]
    },
    {
      "cell_type": "markdown",
      "id": "4abd497c",
      "metadata": {
        "id": "4abd497c"
      },
      "source": [
        "#### Step 1 : Save each page as a `key-value` pair in  a dictionary "
      ]
    },
    {
      "cell_type": "code",
      "execution_count": null,
      "id": "ca3e6f07",
      "metadata": {
        "id": "ca3e6f07"
      },
      "outputs": [],
      "source": [
        "key=[i for i in range(number_of_pages)]\n",
        "value=[]\n",
        "for j in key:\n",
        "    tx = reader.pages[j]\n",
        "    value.append(tx.extract_text())\n"
      ]
    },
    {
      "cell_type": "code",
      "execution_count": null,
      "id": "4a3e5621",
      "metadata": {
        "id": "4a3e5621"
      },
      "outputs": [],
      "source": [
        "all_text = dict(zip(key,value))"
      ]
    },
    {
      "cell_type": "code",
      "execution_count": null,
      "id": "0f979f7c",
      "metadata": {
        "id": "0f979f7c",
        "outputId": "54efde0f-0a33-40b8-d7f5-4a7d636644dd"
      },
      "outputs": [
        {
          "name": "stdout",
          "output_type": "stream",
          "text": [
            "{0: 'Feature Interactions in XGBoost\\nKshitij Goyal, Sebastijan Dumancic, Hendrik Blockeel\\nKU Leuven, Belgium\\nAbstract. In this paper, We investigate how feature interactions can\\nbe identi ﬁed to be used as constraints in gradient boosting tree mod-\\nels through XGBoost’s implementation. Our results show tha t accurate\\nidentiﬁcation of these constraints can help improve the performanc e\\nof baseline XGBoost model signi ﬁcantly. Further, improvement in the\\nmodel structure can also lead to better interpretability.\\nKeywords: Feature Interaction ·XGBoost ·Constraints ·Interpretabil-\\nity\\n1 Introduction\\nIn statistics, two variables X1andX2are said to interact when the e ﬀect of\\nX1on a target variable Yis not constant, but may depend on the value of X2.\\n\"Eﬀect\" here refers to the increase or decrease of Ythat is caused by a change\\ninX1(while keeping X2constant). Interaction does not occur in linear models\\nof the form\\nY=aX1+bX2\\nan unit increase of X1by 1 will always increase Ybya(assuming X2is kept\\nconstant). On the other hand, a model of the form\\nY=aX1+bX2+cX1X2\\ndoes have interaction: rewriting it as\\nY= (a+cX2)X1+bX2\\nmakes clear that a unit increase of X1increases Ybya+cX2, hence, by a value\\nthat depends on X2. In statistics, a common way to detect interaction is to train\\nmodels with and without product terms, and check whether the ver sion with a\\nproduct term signi ﬁcantly outperforms the one without.\\nIn the context of decision trees, X1andX2do not interact if the following\\nholds: whenever a test of X2is used, either X2does not occur in any of the\\nbranches, or if it does, it must be tested in exactly the same w ay in all branches.\\nIndeed, if we would have a test X1<a where the left branch contains X2<b and\\nthe right one does not, this means that the target depends on X2ifX1<a, but\\ndoes not depend on it if X1>a; that is, the e ﬀect ofX2onYclearly depends\\non the value of X1. Obviously, having identical sub-trees in the left and righ t', 1: '2 K. Goyal et al.\\nbranch is relatively rare. So, typically, a tree will either n ot use a variable, or\\nuse it in a way that allows for interaction with other variables .\\nEnsembles of decision trees, however, make it much easier to use variables and\\nyet disallow interaction. If two variables X1andX2are used in di ﬀerent trees,\\nbut never in the same tree, then they do not interact: X1can only a ﬀect the\\nprediction through the trees it occurs in, and since X2does not occur in these\\ntrees, the value of X2cannot possibly a ﬀect the e ﬀect ofX1, and vice versa.\\nSo whereas trees are biased towards interaction, ensembles o f trees introduce\\na natural way of including both variables that do interact (b y having them in\\nthe same tree) and variables whose e ﬀects do not interact (by having them in\\ndiﬀerent trees).\\nThe popular XGBoost system exploits this fact. It allows the use r to partition\\nthe variables into subsets of variables among which there may be interaction,\\nreferred to as ’feature interaction constraints’1. Given a split on feature f, only\\nthe features belonging to the same subset as fwill be considered for next split in\\nthe tree. By exploiting this constraint, the system reduces its search space. This\\nmay lead to higher-quality, more e ﬃcient models with less noise in predictions,\\nbetter generalization and high interpret-ability. If a data set has a high number\\nof features, identifying these constraints can help to make the modelling more\\ndirected, which makes the interpretations of the model more a ccurate. There are\\ntwo main aspects of interpretability, feature importance a nd feature interactions.\\nIn gradient boosting, feature importance can be measured usi ng metrics like gain,\\nweight and cover or by calculating a relevance measure [ 1]. Also, interpretability\\nin terms of feature interaction has been studied in [ 2]. However, There aren’t\\na lot of interpretability methods which directly address fea ture interactions in\\ngradient boosting trees. Knowing these interaction constra ints in advance can\\nﬁll that gap. Having identi ﬁed important features using the existing methods,\\nthese partitions can be used to interpret the interactions a s the tree ensembles\\nare restricted to comply with the constraints.\\nHowever, the user has to provide these constraints. An inter esting question\\nis then: can we automate the creation of these constraints by ﬁrst analysing the\\ndata, looking for interacting variables, and then providin g this information to\\nXGBoost? In this paper, we provide some initial results that s uggest a positive\\nanswer.\\nXGBoost models are state of the art and outperform many other machine\\nlearning methods2. A signi ﬁcant improvement on these models could be substan-\\ntial. There has already been a lot of work on feature selection methods which use\\nthe idea of feature interaction [[ 4], [6], [5], [10]], but none on speci ﬁcally identify-\\ning these constraints. In our work, we aim to develop methods t o identify these\\nconstraints and study their e ﬀects on model performance and e ﬃciency. Identi-\\nfying these kind of feature interactions can be useful in oth er machine learning\\nalgorithms, speci ﬁcally decision tree based algorithms. These constraints can be\\n1https://xgboost.readthedocs.io/en/latest/tutorials/ feature_interaction_\\nconstraint.html\\n2XGBoost - ML winning solutions (incomplete list)', 2: 'Feature Interactions in XGBoost 3\\nincorporated as a part of existing ensemble solutions (XGBo ost, LightGBM etc.)\\nto create a more automated solution with better interpretati ons of the modelled\\nfeatures.\\n2 Approach\\nFeature Interaction has mainly been studied in the context of feature selection\\nin the current literature. There are two main types of methods for feature se-\\nlection, ﬁlter methods and wrapper methods[ 7]. Filter methods use the general\\nfeatures of the dataset like correlation, on the other hand, wrapper methods use\\nsimpler machine learning algorithms to identify important features. Filter meth-\\nods are faster and slightly less accurate compared to wrapper methods which\\nare computationally more expensive[ 3].\\nIn our work to identify feature interaction, we explored both types of meth-\\nods. Starting with a ﬁlter method based on mutual information, we realized that\\nthis method is not able to capture the higher level interacti on of decision trees.\\nWe worked on an iterative selection approach based on mutual information in-\\nspired by the algorithm described in [ 4], with underwhelming results. We are not\\npresenting this method in the paper. However, we present a wra pper algorithm\\nwhich uses linear or logistic regression models to identify f eature interaction.\\n2.1 Wrapper Algorithm\\nThis algorithm uses an iterative approach to get to the splits of the full feature\\nset. The splits identi ﬁed by this method are mutually exclusive.\\n–Start with a full set of features F\\n–Fit a linear/logistic regression model for each of the featu re depending upon\\nthe nature of the target, taking one feature at a time. Select the feature that\\nperforms the best. Add it to the selected feature list and rem ove from the\\nfull feature list.\\n–From the remaining features, select the feature where the mod el with inter-\\naction performs better than the model without interaction an d the model\\nwith interaction is best compared to other remaining feature s. Model with\\ninteraction has all the possible pairwise interactions. Add it to the selected\\nfeature list and remove from the full feature list.\\n–If no new feature can be added to the selected feature list, add the selected\\nfeature list to the ﬁnal interaction list and repeat the process from step 2 on\\nthe remaining of the original feature list, until there aren ’t any features left.', 3: '4 K. Goyal et al.\\nResult: Interaction splits of the full Feature list\\nFeatures = full feature set;\\nInteractionSplits = [];\\nSubset = [];\\nwhile len(Features) != 0 do\\nPotentialCandidates = [];\\nforfiin Features do\\nModel = Logistic/Regression model with Subset/uniontextfi;\\nModelI = Logistic/Regression model with Subset/uniontextfiwith\\ninteractions;\\nifperformance(Model I)> performance (Model)then\\naddfito the PotentialCandidates;\\nend\\nend\\niflen(PotentialCandidates) > 0 then\\nfb= Select the best performing feature from PotentialCandidat es;\\nAddfbto Subset;\\nRemove fbfrom the Features;\\nelse\\nAdd subset to InteractionSplits;\\nSubset = [];\\nend\\nend\\nAlgorithm 1: Wrapper Algorithm for Feature Interaction\\n3 Experiments\\nUsing the approach for ﬁnding the split, we have created multiple gradient boost-\\ning models using XGBoost for a number of data-sets for both cl assiﬁcation and\\nregression problems. Gradient boosting works by combining multiple weak learn-\\ners into a strong learner in an iterative fashion. At every st ep the residual is\\nmodelled using a decision tree until the improvement is sign iﬁcant[8].\\n3.1 Modelling\\nWe have created following variations of Gradient Boosting Tr ee models for com-\\nparison:\\n– Baseline: The original XGBoost model without any feature interaction co n-\\nstraints.\\n– Full Interaction Model: XGBoost Model which uses interaction splits\\nidentiﬁed by the original target in all the trees in the ensemble.\\n– Partial Interaction Model: XGBoost Model with only a selected number\\nof trees in the beginning of the ensemble having interaction constraints. For\\neach residual tree, new interaction splits are calculated b ased on individual', 4: '', 5: '', 6: 'Feature Interactions in XGBoost 7\\nmation, we can get a signi ﬁcant improvement on XGBoost. In our work, we have\\ntried to develop approaches to do that. In the wrapper method we presented, we\\nget signi ﬁcant improvement over the XGBoost models in a number of di ﬀerent\\ndata sets for regression problems. In future, we aim to:\\n–Understand the drawbacks of our method and improve for the cla ssiﬁcation\\nproblems.\\n–Modify our approach to perform at least as good as the baselin e and analyze\\nthe eﬃciency of constrained models.\\n–Study the change in interpretability of the model compared t o baseline.\\n–Explore approaches like association rules to group interac ting features.\\nReferences\\n1. Friedman, Jerome and Hastie, Trevor and Tibshirani, Robe rt.The elements of\\nstatistical learning . The elements of statistical learning, 2001.\\n2. Lundberg, Scott M and Erion, Gabriel G and Lee, Su-In. Consistent individual-\\nized feature attribution for tree ensembles . arXiv preprint arXiv:1802.03888,\\n2001.\\n3. Sánchez-Maroño, Noelia and Alonso-Betanzos, Amparo and Tombilla-Sanromán,\\nMaría. Filter Methods for Feature Selection – A Comparative Study . In-\\ntelligent Data Engineering and Automated Learning, 2007.\\n4. Bennasar, Mohamed and Hicks, Yulia and Setchi, Rossitza. Feature selection\\nusing joint mutual information maximisation . Expert Systems with Applica-\\ntions, 2015.\\n5. Kira, Kenji and Rendell, Larry A. The feature selection problem: Traditional\\nmethods and a new algorithm . AAAI, 1992.\\n6. Zhao, Zheng and Liu, Huan. Searching for interacting features in subset\\nselection . Intelligent Data Analysis, 2009.\\n7. Guyon, Isabelle and Elissee ﬀ, André An introduction to variable and feature\\nselection . Journal of machine learning research, 2003.\\n8. Friedman, Jerome H. Greedy function approximation: a gradient boosting\\nmachine . Annals of statistics, 2001.\\n9. Chen, Tianqi and Guestrin, Carlos. Xgboost: A scalable tree boosting system .\\nProceedings of the 22nd acm sigkdd international conferenc e on knowledge discovery\\nand data mining, 2016.\\n10. Zeng, Zilin and Zhang, Hongjun and Zhang, Rui and Yin, Che ngxiang. A novel\\nfeature selection method considering feature interaction . Pattern Recogni-\\ntion, 2015.'}\n"
          ]
        }
      ],
      "source": [
        "print(all_text)"
      ]
    },
    {
      "cell_type": "code",
      "execution_count": null,
      "id": "315e5934",
      "metadata": {
        "id": "315e5934"
      },
      "outputs": [],
      "source": []
    }
  ],
  "metadata": {
    "colab": {
      "collapsed_sections": [
        "ab5343dc",
        "9847a29b",
        "c81fa771",
        "b1149e0a",
        "ccca2549",
        "ed62884c",
        "e3d74bd4",
        "4abd497c"
      ],
      "provenance": [],
      "include_colab_link": true
    },
    "kernelspec": {
      "display_name": "Python 3.9.7 ('base')",
      "language": "python",
      "name": "python3"
    },
    "language_info": {
      "codemirror_mode": {
        "name": "ipython",
        "version": 3
      },
      "file_extension": ".py",
      "mimetype": "text/x-python",
      "name": "python",
      "nbconvert_exporter": "python",
      "pygments_lexer": "ipython3",
      "version": "3.9.7"
    },
    "vscode": {
      "interpreter": {
        "hash": "6b696e2e8d54b75b3f7cb9ba3004fc2116b39e55436db9ef294a099d603ac3ad"
      }
    }
  },
  "nbformat": 4,
  "nbformat_minor": 5
}